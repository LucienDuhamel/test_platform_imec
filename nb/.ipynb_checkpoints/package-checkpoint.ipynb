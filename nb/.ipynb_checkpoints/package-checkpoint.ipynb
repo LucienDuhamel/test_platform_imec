{
 "cells": [
  {
   "cell_type": "code",
   "execution_count": null,
   "id": "8bf77f0f-6949-4d16-b014-97f6801b91e3",
   "metadata": {},
   "outputs": [],
   "source": [
    "\"\"\"\n",
    "Equivalent to kairos_pkg.sv\n",
    "\"\"\"\n",
    "\n",
    "nb_hex_per_packet  = config_data[\"TEST_FILE\"][\"nb_hex_per_packet\"]    # 8 hexa characters per packet : 32 bits each\n",
    "\n",
    "transmitted_data_len_dict: dict[str, int] = {\n",
    "    \"REGRD\": 2,\n",
    "    \"REGWR\": 2,\n",
    "    \"MEMRD\": 8,\n",
    "    \"MEMWR\": 8,\n",
    "    \"MEMRDM\": 8,\n",
    "    \"MEMWRM\": 8,\n",
    "}"
   ]
  }
 ],
 "metadata": {
  "kernelspec": {
   "display_name": "Python 3 (ipykernel)",
   "language": "python",
   "name": "python3"
  },
  "language_info": {
   "codemirror_mode": {
    "name": "ipython",
    "version": 3
   },
   "file_extension": ".py",
   "mimetype": "text/x-python",
   "name": "python",
   "nbconvert_exporter": "python",
   "pygments_lexer": "ipython3",
   "version": "3.10.4"
  }
 },
 "nbformat": 4,
 "nbformat_minor": 5
}
