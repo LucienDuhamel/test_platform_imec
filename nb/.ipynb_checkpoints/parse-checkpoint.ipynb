{
 "cells": [
  {
   "cell_type": "markdown",
   "id": "8f212e3f-6a47-4245-a032-d095042652ba",
   "metadata": {},
   "source": [
    "The cell below gives the format of sent data depending on the spi command."
   ]
  },
  {
   "cell_type": "code",
   "execution_count": 7,
   "id": "86e3df0a-8582-4a24-959b-b94dd1256c05",
   "metadata": {},
   "outputs": [],
   "source": [
    "import re\n",
    "\n",
    "\"\"\"\n",
    "\n",
    "This function parses the test file into valid command, addr and data \n",
    "to transmit to the SPI in order to do the tests.\n",
    "\n",
    "Add the command to parsed_values\n",
    "\n",
    "\"\"\"\n",
    "\n",
    "def run_parse_loop(test_file, result_file_html, result_file_txt) -> dict : \n",
    "    nb_cmd = 0\n",
    "    parsed_file = {} # dictionnary composed of all command lines from test file\n",
    "    parsed_line = [] # one parsed line from the test file : command, addr, bytes \n",
    "\n",
    "    # Open and read the file\n",
    "    for line in test_file:\n",
    "        line = line.strip()  # Remove extra spaces and newline characters\n",
    "        if line.startswith(\"//\"): # Ignore comments \n",
    "            continue\n",
    "        parts = line.split() # Split the line into a list of string based on spaces\n",
    "        if (parts) :\n",
    "            command = parts[0]\n",
    "            if command in cmd_dict :\n",
    "                nb_cmd += 1\n",
    "                tokens = cmd_dict[command][\"tokens\"]\n",
    "                addr, data = extract_tokens(parts, tokens)\n",
    "                parsed_line = [command, addr, data]\n",
    "                parsed_file[nb_cmd]=parsed_line\n",
    "            else:\n",
    "                unknown_cmd(result_file_html, result_file_txt, command)\n",
    "    return parsed_file\n",
    "\n",
    "\n",
    "def extract_tokens(parts : list, tokens: dict):\n",
    "    if (\"addr\" in tokens) :\n",
    "        addr_token_length = tokens[\"addr\"]\n",
    "        addr = parts[1:1+addr_token_length]\n",
    "    else :\n",
    "        addr = None\n",
    "    if (\"data\" in tokens):\n",
    "        data_tokens_length = tokens[\"data\"]\n",
    "        if(addr):\n",
    "            data = parts[1+addr_token_length:1+addr_token_length+data_tokens_length]\n",
    "        else :\n",
    "            data = parts[1:1+data_tokens_length]\n",
    "    else :\n",
    "        data = None\n",
    "    return addr, data\n"
   ]
  },
  {
   "cell_type": "code",
   "execution_count": 8,
   "id": "0b800fe4-53c4-4b47-9706-682e29afd33d",
   "metadata": {},
   "outputs": [
    {
     "name": "stdout",
     "output_type": "stream",
     "text": [
      "{1: ['REGWR', ['0'], ['654321FF', 'CBA9871F']], 2: ['REGRD', ['0'], None], 3: ['REGWR', ['0'], ['452301FF', '0']], 4: ['REGRD', ['18'], None], 5: ['REGWR', ['18'], ['00000F000', '00002000']], 6: ['REGRD', ['18'], None], 7: ['REGCMP', None, ['00000F000', '00002000']], 8: ['MEMWR', ['B00'], ['12345678', '9ABCDEF0', '87654321', '0FEDCBA9', '55555555', '66666666', '77777777', '88888888']], 9: ['MEMRD', ['B00'], None], 10: ['MEMCMP', None, ['12345678', '9ABCDEF0', '87654321', '0FEDCBA9', '55555555', '66666666', '77777777', '88888888']], 11: ['REGWR', ['18'], ['00000100', '00000100']], 12: ['REGWR', ['C0'], ['FFFFFFFF', '00500000']], 13: ['REGRD', ['CC'], None], 14: ['REGWR', ['E0'], ['FFFFFFFF', '00000002']], 15: ['REGRD', ['E0'], None], 16: ['REGWR', ['100'], ['F0FFFFFF', 'FFFFFFFF']], 17: ['REGRD', ['100'], None], 18: ['REGWR', ['104'], ['FF0FFAFF', 'FFFFFFFF']], 19: ['REGRD', ['104'], None], 20: ['REGWR', ['108'], ['0FFFFFFF', 'FFFFFFFF']], 21: ['REGRD', ['108'], None], 22: ['REGWR', ['10C'], ['FFFFFFFE', 'FFFFFFFF']], 23: ['REGRD', ['10C'], None], 24: ['REGWR', ['110'], ['1FF0F4FF', 'FFFFFFFF']], 25: ['REGRD', ['110'], None], 26: ['REGWR', ['114'], ['E0FFFFF9', 'FFFFFFFF']], 27: ['REGRD', ['114'], None], 28: ['REGWR', ['118'], ['FABFFFFF', 'FFFFFFFF']], 29: ['REGRD', ['118'], None], 30: ['REGWR', ['11C'], ['FFFFFFFF', 'FFFFFFFF']], 31: ['REGRD', ['11C'], None], 32: ['MEMWRM', None, ['E7895712', 'FE409341', '0FEDCB06', '70001111', 'BEEFEA56', 'EEEEEEEE', 'CCCCCCCD', '888888FF']], 33: ['MEMRDM', None, None], 34: ['MEMCMP', None, ['E7895712', 'FA009341', '07EDCB00', '100D1B11', 'BEEFEA57', '6EEEEEEE', 'CC7CCDCD', '888888FF']]}\n"
     ]
    }
   ],
   "source": [
    "# import yaml\n",
    "      \n",
    "# with open(\"../commands.yaml\",\"r\") as file:\n",
    "#         cmd_dict = yaml.safe_load(file)\n",
    "#         # print(config)\n",
    "\n",
    "# test_file_path = \"../data/test1.txt\"\n",
    "# result_file_html = ''\n",
    "# result_file_txt = ''\n",
    "# with open(test_file_path,\"r\") as test_file_opened:\n",
    "#     parsed_file = run_parse_loop(test_file_opened, result_file_html, result_file_txt)\n",
    "# print(parsed_file)"
   ]
  },
  {
   "cell_type": "code",
   "execution_count": null,
   "id": "c468f342-4e86-4617-911e-e560aed5b91e",
   "metadata": {},
   "outputs": [],
   "source": []
  }
 ],
 "metadata": {
  "kernelspec": {
   "display_name": "Python 3 (ipykernel)",
   "language": "python",
   "name": "python3"
  },
  "language_info": {
   "codemirror_mode": {
    "name": "ipython",
    "version": 3
   },
   "file_extension": ".py",
   "mimetype": "text/x-python",
   "name": "python",
   "nbconvert_exporter": "python",
   "pygments_lexer": "ipython3",
   "version": "3.10.4"
  }
 },
 "nbformat": 4,
 "nbformat_minor": 5
}
