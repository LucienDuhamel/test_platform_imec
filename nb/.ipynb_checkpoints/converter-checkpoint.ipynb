{
 "cells": [
  {
   "cell_type": "code",
   "execution_count": null,
   "id": "f9fec713-349d-47de-9ce7-e060e2b3c9b6",
   "metadata": {},
   "outputs": [],
   "source": [
    "# Takes any str composed of hexadecimal values and converts it into bytes\n",
    "# For example from_hex_to_byte(\"1234abcd\") gives bytearray(b'\\x124\\xab\\xcd')\n",
    "\n",
    "def from_hex_to_bit(hex_value : str) -> bytearray :\n",
    "    return '{0:08b}'.format(int(hex_value, 16))\n",
    "\n",
    "# Takes any list of bytes and converts it into a string of hexadecimal values\n",
    "# For example from_byte_to_hex(bytearray(b'\\x124\\xab\\xcd')) gives \"1234abcd\"\n",
    "def from_int_to_hex(int_val : int) -> str :\n",
    "    hex_val = '{0:02x}'.format(int_val)\n",
    "    return hex_val.upper()\n",
    "\n",
    "# Takes any list of int and converts it into a list of string of 8 hex values per packets \n",
    "# For example from_byte_to_hex([]) gives \"1234abcd\"\n",
    "def from_list_int_to_hex(int_list : list[int]) -> str :\n",
    "    nb_byte_from_list = len(int_list)\n",
    "    list_hex_packets = []\n",
    "    for hex_packet_indice in range (0, nb_byte_from_list, nb_hex_per_packet//2) : # because 1 byte is 2 hex char\n",
    "        hex_packet = ''\n",
    "        for byte in int_list[hex_packet_indice : hex_packet_indice + nb_hex_per_packet//2] :\n",
    "            hex_packet += from_int_to_hex(byte)\n",
    "        list_hex_packets.append(hex_packet.upper())\n",
    "    return list_hex_packets\n"
   ]
  }
 ],
 "metadata": {
  "kernelspec": {
   "display_name": "Python 3 (ipykernel)",
   "language": "python",
   "name": "python3"
  },
  "language_info": {
   "codemirror_mode": {
    "name": "ipython",
    "version": 3
   },
   "file_extension": ".py",
   "mimetype": "text/x-python",
   "name": "python",
   "nbconvert_exporter": "python",
   "pygments_lexer": "ipython3",
   "version": "3.10.4"
  }
 },
 "nbformat": 4,
 "nbformat_minor": 5
}
