{
 "cells": [
  {
   "cell_type": "code",
   "execution_count": 1,
   "id": "6eb3f3f0-66df-4525-9d91-6fc7edabdd22",
   "metadata": {},
   "outputs": [],
   "source": [
    "def reverse_bits(n: int, width: int) -> int:\n",
    "    result = 0\n",
    "    for i in range(width):\n",
    "        result <<= 1              # Shift result to the left\n",
    "        result |= (n >> i) & 1    # Extract bit i from n and add it\n",
    "    return result"
   ]
  }
 ],
 "metadata": {
  "kernelspec": {
   "display_name": "Python 3 (ipykernel)",
   "language": "python",
   "name": "python3"
  },
  "language_info": {
   "codemirror_mode": {
    "name": "ipython",
    "version": 3
   },
   "file_extension": ".py",
   "mimetype": "text/x-python",
   "name": "python",
   "nbconvert_exporter": "python",
   "pygments_lexer": "ipython3",
   "version": "3.10.4"
  }
 },
 "nbformat": 4,
 "nbformat_minor": 5
}
