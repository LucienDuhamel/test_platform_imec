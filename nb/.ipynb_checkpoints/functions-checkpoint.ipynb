{
 "cells": [
  {
   "cell_type": "code",
   "execution_count": 1,
   "id": "6eb3f3f0-66df-4525-9d91-6fc7edabdd22",
   "metadata": {},
   "outputs": [],
   "source": [
    "# Tests if the given str argument is null or empty\n",
    "# This function should be moved \n",
    "def is_empty(arg : str):\n",
    "    if (arg is None or arg == \"\"):\n",
    "        return True \n",
    "    \n",
    "def test_length(result_file_html, result_file_txt, ref_length, length):\n",
    "    if (ref_length != ref_length):\n",
    "        wrong_wr_parameters(result_file_html, result_file_txt)   \n",
    "    "
   ]
  }
 ],
 "metadata": {
  "kernelspec": {
   "display_name": "Python 3 (ipykernel)",
   "language": "python",
   "name": "python3"
  },
  "language_info": {
   "codemirror_mode": {
    "name": "ipython",
    "version": 3
   },
   "file_extension": ".py",
   "mimetype": "text/x-python",
   "name": "python",
   "nbconvert_exporter": "python",
   "pygments_lexer": "ipython3",
   "version": "3.10.4"
  }
 },
 "nbformat": 4,
 "nbformat_minor": 5
}
