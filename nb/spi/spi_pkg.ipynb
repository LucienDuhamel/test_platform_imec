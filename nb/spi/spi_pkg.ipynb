{
 "cells": [
  {
   "cell_type": "code",
   "execution_count": 19,
   "id": "9d470757-022e-4b2b-a24f-3fcad4041e99",
   "metadata": {},
   "outputs": [],
   "source": [
    "import numpy as np"
   ]
  },
  {
   "cell_type": "markdown",
   "id": "653018a9-603b-4a49-b549-bd1dc29b7ea3",
   "metadata": {},
   "source": [
    "Defines the spi_commands to transmit from master to slave"
   ]
  },
  {
   "cell_type": "code",
   "execution_count": 24,
   "id": "09d52e08-d1b4-40df-a3cc-2fdd3bae55af",
   "metadata": {},
   "outputs": [],
   "source": [
    "spi_commands: dict[str, int] = {\n",
    "    \"SPI_NOCOMMAND\": 0x00,\n",
    "    \"SPI_REGRD\":     0xA1,\n",
    "    \"SPI_REGWR\":     0xB2,\n",
    "    \"SPI_MEMRD\":     0xC3,\n",
    "    \"SPI_MEMWR\":     0xD4,\n",
    "    \"SPI_MEMRDM\":    0xE5,\n",
    "    \"SPI_MEMWRM\":    0xF6,\n",
    "}"
   ]
  },
  {
   "cell_type": "code",
   "execution_count": 25,
   "id": "a75c2884-afe3-4c15-b3e0-50d0b193fcc4",
   "metadata": {},
   "outputs": [
    {
     "name": "stdout",
     "output_type": "stream",
     "text": [
      "SPI_NOCOMMAND : 0x00\n",
      "SPI_REGRD : 0xA1\n",
      "SPI_REGWR : 0xB2\n",
      "SPI_MEMRD : 0xC3\n",
      "SPI_MEMWR : 0xD4\n",
      "SPI_MEMRDM : 0xE5\n",
      "SPI_MEMWRM : 0xF6\n"
     ]
    }
   ],
   "source": [
    "def show_spi_command(spi_command: dict[str, bytearray]) -> None:\n",
    "    for command, value in spi_command.items():\n",
    "        print(f\"{command} : {value}\")\n",
    "\n",
    "#show_spi_command(spi_commands)"
   ]
  },
  {
   "cell_type": "code",
   "execution_count": null,
   "id": "ee1685f5-1984-4acf-b15e-f580f2ec4dd2",
   "metadata": {},
   "outputs": [],
   "source": []
  }
 ],
 "metadata": {
  "kernelspec": {
   "display_name": "Python 3 (ipykernel)",
   "language": "python",
   "name": "python3"
  },
  "language_info": {
   "codemirror_mode": {
    "name": "ipython",
    "version": 3
   },
   "file_extension": ".py",
   "mimetype": "text/x-python",
   "name": "python",
   "nbconvert_exporter": "python",
   "pygments_lexer": "ipython3",
   "version": "3.10.4"
  }
 },
 "nbformat": 4,
 "nbformat_minor": 5
}
