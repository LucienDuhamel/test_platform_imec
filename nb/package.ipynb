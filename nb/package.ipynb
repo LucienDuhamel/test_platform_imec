{
 "cells": [
  {
   "cell_type": "code",
   "execution_count": null,
   "id": "8bf77f0f-6949-4d16-b014-97f6801b91e3",
   "metadata": {},
   "outputs": [],
   "source": [
    "nb_of_token_for_cmd = config[\"TEST_FILE\"][\"nb_of_token_for_cmd\"]\n",
    "nb_bytes_per_token_cmd = config[\"TEST_FILE\"][\"nb_bytes_per_token_cmd\"]\n",
    "nb_bytes_per_token_addr = config[\"TEST_FILE\"][\"nb_bytes_per_token_addr\"]\n",
    "nb_bytes_per_token_data = config[\"TEST_FILE\"][\"nb_bytes_per_token_data\"]\n",
    "\n",
    "nb_token_to_compare_reg_cmp = cmd_dict[\"REGWR\"][\"tokens\"][\"data\"]//2 # due to mask token\n",
    "nb_token_to_compare_mem_cmp = cmd_dict[\"MEMWR\"][\"tokens\"][\"data\"]\n",
    "\n",
    "# Length of cmd : not used \n",
    "dict_cmd_number_token: dict[str,int] = {\n",
    "    \"REGRD\": cmd_dict[\"REGWR\"][\"tokens\"][\"cmd\"],\n",
    "    \"MEMRD\": cmd_dict[\"MEMWR\"][\"tokens\"][\"cmd\"],\n",
    "    \"MEMRDM\": cmd_dict[\"MEMWRM\"][\"tokens\"][\"cmd\"],\n",
    "    \"REGWR\": cmd_dict[\"REGWR\"][\"tokens\"][\"cmd\"],\n",
    "    \"MEMWR\": cmd_dict[\"MEMWR\"][\"tokens\"][\"cmd\"],\n",
    "    \"MEMWRM\": cmd_dict[\"MEMWRM\"][\"tokens\"][\"cmd\"], \n",
    "}\n",
    "\n",
    "# Length of addr :\n",
    "dict_addr_number_token: dict[str,int] = {\n",
    "    \"REGRD\": cmd_dict[\"REGWR\"][\"tokens\"][\"addr\"], \n",
    "    \"MEMRD\": cmd_dict[\"MEMWR\"][\"tokens\"][\"addr\"],\n",
    "    \"REGWR\": cmd_dict[\"REGWR\"][\"tokens\"][\"addr\"],\n",
    "    \"MEMWR\": cmd_dict[\"MEMWR\"][\"tokens\"][\"addr\"],\n",
    "}\n",
    "\n",
    "# Length of write data :\n",
    "dict_data_number_token_to_write: dict[str,int] = {\n",
    "    \"REGWR\": cmd_dict[\"REGWR\"][\"tokens\"][\"data\"],\n",
    "    \"MEMWR\": cmd_dict[\"MEMWR\"][\"tokens\"][\"data\"],\n",
    "    \"MEMWRM\": cmd_dict[\"MEMWRM\"][\"tokens\"][\"data\"], \n",
    "}\n",
    "\n",
    "# Length of read data :\n",
    "dict_data_number_token_to_read: dict[str, int] = {\n",
    "    \"REGRD\": cmd_dict[\"REGWR\"][\"tokens\"][\"data\"]//2, # due to mask token\n",
    "    \"MEMRD\": cmd_dict[\"MEMWR\"][\"tokens\"][\"data\"],\n",
    "    \"MEMRDM\": cmd_dict[\"MEMWRM\"][\"tokens\"][\"data\"],\n",
    "}"
   ]
  }
 ],
 "metadata": {
  "kernelspec": {
   "display_name": "Python 3 (ipykernel)",
   "language": "python",
   "name": "python3"
  },
  "language_info": {
   "codemirror_mode": {
    "name": "ipython",
    "version": 3
   },
   "file_extension": ".py",
   "mimetype": "text/x-python",
   "name": "python",
   "nbconvert_exporter": "python",
   "pygments_lexer": "ipython3",
   "version": "3.10.4"
  }
 },
 "nbformat": 4,
 "nbformat_minor": 5
}
