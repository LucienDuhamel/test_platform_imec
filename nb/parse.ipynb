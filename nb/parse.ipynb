{
 "cells": [
  {
   "cell_type": "markdown",
   "id": "8f212e3f-6a47-4245-a032-d095042652ba",
   "metadata": {},
   "source": [
    "The cell below gives the format of sent data depending on the spi command."
   ]
  },
  {
   "cell_type": "code",
   "execution_count": null,
   "id": "bd7d5321-20ee-4d4d-b364-49a1d0d1da36",
   "metadata": {},
   "outputs": [],
   "source": [
    "cmd_format = {\n",
    "    \"//\": \"//%s\",                                       # Display at the output\n",
    "    \"MEASURE_FREQ_VCO\": \"MEASURE_FREQ_VCO %d %0d %0d\",  # MEASURE_FREQ_VCO CLKs MINF MAXF\n",
    "    \"ENABLE_AMS\": \"ENABLE_AMS\",\n",
    "    \"DISABLE_AMS\": \"DISABLE_AMS\",\n",
    "    \"WAIT_NS\": \"WAIT_NS %d\",                            # WAIT_NS time_in_ns\n",
    "    \"WTSV\": \"WTSV %s %x\",                               # WAIT for signal value\n",
    "    \"BEHR\": \"BEHR %x\",                                  # Bist error halt routine N times\n",
    "    \"PSV\": \"PSV %s %x\",                                 # PUT signal value (IO on DUT)\n",
    "    \"REGWR\": \"REGWR %x %x %x\",                          # REGWR ADDR16 MASK32 DATA32\n",
    "    \"REGRD\": \"REGRD %x\",                                # REGRD ADDR16\n",
    "    \"MEMWR\": \"MEMWR %x %x %x %x %x %x %x %x %x\",        # MEMWR ADDR16 DATA32_31 ... DATA32_0\n",
    "    \"MEMRD\": \"MEMRD %x\",                                # MEMRD ADDR16\n",
    "    \"MEMWRM\": \"MEMWRM %x %x %x %x %x %x %x %x\",         # MEMWRM DATA32_31 ... DATA32_0\n",
    "    \"MEMRDM\": \"MEMRDM\",                                 # MEMRDM\n",
    "    \"REGCMP\": \"REGCMP %x %x\",                           # REGCMP MASK32 CMPDATA32\n",
    "    \"MEMCMP\": \"MEMCMP %x %x %x %x %x %x %x %x\"          # MEMCMP CMPDATA32_7 ... CMPDATA32_0\n",
    "}"
   ]
  },
  {
   "cell_type": "code",
   "execution_count": null,
   "id": "86e3df0a-8582-4a24-959b-b94dd1256c05",
   "metadata": {},
   "outputs": [],
   "source": [
    "import re\n",
    "\n",
    "\"\"\"\n",
    "\n",
    "This function parses the test file into valid command, addr and data \n",
    "to transmit to the SPI in order to do the tests.\n",
    "\n",
    "Add the command to parsed_values\n",
    "\n",
    "\"\"\"\n",
    "\n",
    "def run_parse_loop(test_file, result_file_html, result_file_txt) -> list[list[int]]: \n",
    "\n",
    "    parsed_file = [] # list of all parsed lines from the test file \n",
    "    parsed_line = [] # one parsed line from the test file : command, addr, bytes \n",
    "\n",
    "    # Open and read the file\n",
    "    for line in test_file:\n",
    "        line = line.strip()  # Remove extra spaces and newline characters\n",
    "        if line.startswith(\"//\"): # Ignore comments \n",
    "            continue\n",
    "        parts = line.split() # Split the line into a list of string based on spaces\n",
    "        # if not (parts) :\n",
    "        #     empty_line(result_file) # function to create if want to uncomment this \n",
    "        if (parts) :\n",
    "            command = parts[0]\n",
    "            if command in cmd_format :\n",
    "                parsed_line = extract_data_from_line(result_file_html, result_file_txt, command, line)      \n",
    "            else:\n",
    "                unknown_cmd(result_file_html, result_file_txt, command)\n",
    "            parsed_file.append(parsed_line)\n",
    "    return parsed_file\n",
    "\n",
    "\n",
    "\n",
    "\"\"\"\n",
    "\n",
    "This function extracts ADDR and Bytes data from one line of the test file given a certain command\n",
    "\n",
    "\"\"\"\n",
    "def extract_data_from_line(result_file_html, result_file_txt, command:str, line:str)-> list[str]:\n",
    "    parsed_line = [command]\n",
    "    format = cmd_format[command]\n",
    "    pattern = format.replace(\"%d\", r\"(\\d+)\") # Match with decimal values in test file \n",
    "    pattern = pattern.replace(\"%x\", r\"([0-9a-fA-F]+)\") # Match with hexadecimal values in test file \n",
    "    match = re.match(pattern, line) \n",
    "    if match:\n",
    "        for data in match.groups():\n",
    "            parsed_line.append(data) \n",
    "        # print(f\"Command: {command}, Parsed Values: {parsed_values}\")\n",
    "    else:\n",
    "        error_parsing_line(result_file_html, result_file_txt, line)\n",
    "    return parsed_line"
   ]
  }
 ],
 "metadata": {
  "kernelspec": {
   "display_name": "Python 3 (ipykernel)",
   "language": "python",
   "name": "python3"
  },
  "language_info": {
   "codemirror_mode": {
    "name": "ipython",
    "version": 3
   },
   "file_extension": ".py",
   "mimetype": "text/x-python",
   "name": "python",
   "nbconvert_exporter": "python",
   "pygments_lexer": "ipython3",
   "version": "3.10.4"
  }
 },
 "nbformat": 4,
 "nbformat_minor": 5
}
