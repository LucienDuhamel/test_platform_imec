{
 "cells": [
  {
   "cell_type": "markdown",
   "id": "e1c7e421-18f6-4480-87ba-3775daa2aef0",
   "metadata": {},
   "source": [
    "To only run one time at the beginning of the test (unless you want to change the current overlay) :"
   ]
  },
  {
   "cell_type": "code",
   "execution_count": 9,
   "id": "2d5439f5",
   "metadata": {
    "tags": []
   },
   "outputs": [],
   "source": [
    "from pynq import Overlay\n",
    "ol = Overlay(\"overlay/test_platform_kairos.bit\")"
   ]
  },
  {
   "cell_type": "markdown",
   "id": "d0f9f4a1-8ce7-4821-abc7-c616ca2f4de4",
   "metadata": {},
   "source": [
    "To run only if you made change in the overlay :"
   ]
  },
  {
   "cell_type": "code",
   "execution_count": 10,
   "id": "fcaf040b-a580-48b6-8132-f7f25c4ad903",
   "metadata": {},
   "outputs": [],
   "source": [
    "ol.download()\n",
    "# ol?"
   ]
  },
  {
   "cell_type": "markdown",
   "id": "8d602c4b-2bf8-4dc2-818a-35d7a49fde93",
   "metadata": {},
   "source": [
    "We define our SPI hardware object : AxiQspi."
   ]
  },
  {
   "cell_type": "code",
   "execution_count": 11,
   "id": "615fc811-e2a5-4888-98c8-afabd4a9946f",
   "metadata": {},
   "outputs": [
    {
     "name": "stdout",
     "output_type": "stream",
     "text": [
      "<class 'pynq.mmio.MMIO'>\n"
     ]
    }
   ],
   "source": [
    "from pynq import MMIO\n",
    "\n",
    "SPI_regSpace = ol.ip_dict['axi_quad_spi_0']\n",
    "IP_BASE_ADDRESS = SPI_regSpace['phys_addr']\n",
    "IP_ADDRESS_RNGE = SPI_regSpace['addr_range']\n",
    "AxiQspi = MMIO(IP_BASE_ADDRESS, IP_ADDRESS_RNGE)\n",
    "print(type(AxiQspi))"
   ]
  },
  {
   "cell_type": "code",
   "execution_count": null,
   "id": "60b4faa5",
   "metadata": {},
   "outputs": [],
   "source": [
    "with open(\"style.css\",\"r\") as file:\n",
    "        css_file = file.read()"
   ]
  },
  {
   "cell_type": "markdown",
   "id": "2edeae3d-cd34-437f-9c90-c3d63eea3179",
   "metadata": {},
   "source": [
    "Open the config file"
   ]
  },
  {
   "cell_type": "raw",
   "id": "d66ab1b5-9ec7-4ab5-ac1c-a43197e2edee",
   "metadata": {},
   "source": [
    "Trying to run every testfiles from data folder :"
   ]
  },
  {
   "cell_type": "code",
   "execution_count": null,
   "id": "149efd50-9810-4b53-a93f-04479419fda1",
   "metadata": {},
   "outputs": [
    {
     "ename": "NameError",
     "evalue": "name 'config' is not defined",
     "output_type": "error",
     "traceback": [
      "\u001b[0;31m---------------------------------------------------------------------------\u001b[0m",
      "\u001b[0;31mNameError\u001b[0m                                 Traceback (most recent call last)",
      "File \u001b[0;32m/tmp/ipykernel_19502/971105306.py:1\u001b[0m, in \u001b[0;36m<cell line: 1>\u001b[0;34m()\u001b[0m\n\u001b[0;32m----> 1\u001b[0m nb_bytes_per_token_cmd \u001b[38;5;241m=\u001b[39m \u001b[43mconfig\u001b[49m[\u001b[38;5;124m\"\u001b[39m\u001b[38;5;124mTEST_FILE\u001b[39m\u001b[38;5;124m\"\u001b[39m][\u001b[38;5;124m\"\u001b[39m\u001b[38;5;124mnb_bytes_per_token_cmd\u001b[39m\u001b[38;5;124m\"\u001b[39m]\n\u001b[1;32m      2\u001b[0m nb_bytes_per_token_addr \u001b[38;5;241m=\u001b[39m config[\u001b[38;5;124m\"\u001b[39m\u001b[38;5;124mTEST_FILE\u001b[39m\u001b[38;5;124m\"\u001b[39m][\u001b[38;5;124m\"\u001b[39m\u001b[38;5;124mnb_bytes_per_token_addr\u001b[39m\u001b[38;5;124m\"\u001b[39m]\n\u001b[1;32m      3\u001b[0m nb_bytes_per_token_data \u001b[38;5;241m=\u001b[39m config[\u001b[38;5;124m\"\u001b[39m\u001b[38;5;124mTEST_FILE\u001b[39m\u001b[38;5;124m\"\u001b[39m][\u001b[38;5;124m\"\u001b[39m\u001b[38;5;124mnb_bytes_per_token_data\u001b[39m\u001b[38;5;124m\"\u001b[39m]\n",
      "\u001b[0;31mNameError\u001b[0m: name 'config' is not defined"
     ]
    },
    {
     "ename": "NameError",
     "evalue": "name 'config' is not defined",
     "output_type": "error",
     "traceback": [
      "\u001b[0;31m---------------------------------------------------------------------------\u001b[0m",
      "\u001b[0;31mNameError\u001b[0m                                 Traceback (most recent call last)",
      "Input \u001b[0;32mIn [1]\u001b[0m, in \u001b[0;36m<cell line: 2>\u001b[0;34m()\u001b[0m\n\u001b[1;32m      1\u001b[0m get_ipython()\u001b[38;5;241m.\u001b[39mrun_line_magic(\u001b[38;5;124m'\u001b[39m\u001b[38;5;124mrun\u001b[39m\u001b[38;5;124m'\u001b[39m, \u001b[38;5;124m'\u001b[39m\u001b[38;5;124mnb/parser.ipynb\u001b[39m\u001b[38;5;124m'\u001b[39m)\n\u001b[0;32m----> 2\u001b[0m \u001b[43mget_ipython\u001b[49m\u001b[43m(\u001b[49m\u001b[43m)\u001b[49m\u001b[38;5;241;43m.\u001b[39;49m\u001b[43mrun_line_magic\u001b[49m\u001b[43m(\u001b[49m\u001b[38;5;124;43m'\u001b[39;49m\u001b[38;5;124;43mrun\u001b[39;49m\u001b[38;5;124;43m'\u001b[39;49m\u001b[43m,\u001b[49m\u001b[43m \u001b[49m\u001b[38;5;124;43m'\u001b[39;49m\u001b[38;5;124;43mnb/package.ipynb\u001b[39;49m\u001b[38;5;124;43m'\u001b[39;49m\u001b[43m)\u001b[49m\n\u001b[1;32m      3\u001b[0m get_ipython()\u001b[38;5;241m.\u001b[39mrun_line_magic(\u001b[38;5;124m'\u001b[39m\u001b[38;5;124mrun\u001b[39m\u001b[38;5;124m'\u001b[39m, \u001b[38;5;124m'\u001b[39m\u001b[38;5;124mnb/functions.ipynb\u001b[39m\u001b[38;5;124m'\u001b[39m)\n\u001b[1;32m      4\u001b[0m get_ipython()\u001b[38;5;241m.\u001b[39mrun_line_magic(\u001b[38;5;124m'\u001b[39m\u001b[38;5;124mrun\u001b[39m\u001b[38;5;124m'\u001b[39m, \u001b[38;5;124m'\u001b[39m\u001b[38;5;124mnb/formater.ipynb\u001b[39m\u001b[38;5;124m'\u001b[39m)\n",
      "File \u001b[0;32m/usr/local/share/pynq-venv/lib/python3.10/site-packages/IPython/core/interactiveshell.py:2305\u001b[0m, in \u001b[0;36mInteractiveShell.run_line_magic\u001b[0;34m(self, magic_name, line, _stack_depth)\u001b[0m\n\u001b[1;32m   2303\u001b[0m     kwargs[\u001b[38;5;124m'\u001b[39m\u001b[38;5;124mlocal_ns\u001b[39m\u001b[38;5;124m'\u001b[39m] \u001b[38;5;241m=\u001b[39m \u001b[38;5;28mself\u001b[39m\u001b[38;5;241m.\u001b[39mget_local_scope(stack_depth)\n\u001b[1;32m   2304\u001b[0m \u001b[38;5;28;01mwith\u001b[39;00m \u001b[38;5;28mself\u001b[39m\u001b[38;5;241m.\u001b[39mbuiltin_trap:\n\u001b[0;32m-> 2305\u001b[0m     result \u001b[38;5;241m=\u001b[39m \u001b[43mfn\u001b[49m\u001b[43m(\u001b[49m\u001b[38;5;241;43m*\u001b[39;49m\u001b[43margs\u001b[49m\u001b[43m,\u001b[49m\u001b[43m \u001b[49m\u001b[38;5;241;43m*\u001b[39;49m\u001b[38;5;241;43m*\u001b[39;49m\u001b[43mkwargs\u001b[49m\u001b[43m)\u001b[49m\n\u001b[1;32m   2306\u001b[0m \u001b[38;5;28;01mreturn\u001b[39;00m result\n",
      "File \u001b[0;32m/usr/local/share/pynq-venv/lib/python3.10/site-packages/IPython/core/magics/execution.py:717\u001b[0m, in \u001b[0;36mExecutionMagics.run\u001b[0;34m(self, parameter_s, runner, file_finder)\u001b[0m\n\u001b[1;32m    715\u001b[0m     \u001b[38;5;28;01mwith\u001b[39;00m preserve_keys(\u001b[38;5;28mself\u001b[39m\u001b[38;5;241m.\u001b[39mshell\u001b[38;5;241m.\u001b[39muser_ns, \u001b[38;5;124m'\u001b[39m\u001b[38;5;124m__file__\u001b[39m\u001b[38;5;124m'\u001b[39m):\n\u001b[1;32m    716\u001b[0m         \u001b[38;5;28mself\u001b[39m\u001b[38;5;241m.\u001b[39mshell\u001b[38;5;241m.\u001b[39muser_ns[\u001b[38;5;124m'\u001b[39m\u001b[38;5;124m__file__\u001b[39m\u001b[38;5;124m'\u001b[39m] \u001b[38;5;241m=\u001b[39m filename\n\u001b[0;32m--> 717\u001b[0m         \u001b[38;5;28;43mself\u001b[39;49m\u001b[38;5;241;43m.\u001b[39;49m\u001b[43mshell\u001b[49m\u001b[38;5;241;43m.\u001b[39;49m\u001b[43msafe_execfile_ipy\u001b[49m\u001b[43m(\u001b[49m\u001b[43mfilename\u001b[49m\u001b[43m,\u001b[49m\u001b[43m \u001b[49m\u001b[43mraise_exceptions\u001b[49m\u001b[38;5;241;43m=\u001b[39;49m\u001b[38;5;28;43;01mTrue\u001b[39;49;00m\u001b[43m)\u001b[49m\n\u001b[1;32m    718\u001b[0m     \u001b[38;5;28;01mreturn\u001b[39;00m\n\u001b[1;32m    720\u001b[0m \u001b[38;5;66;03m# Control the response to exit() calls made by the script being run\u001b[39;00m\n",
      "File \u001b[0;32m/usr/local/share/pynq-venv/lib/python3.10/site-packages/IPython/core/interactiveshell.py:2811\u001b[0m, in \u001b[0;36mInteractiveShell.safe_execfile_ipy\u001b[0;34m(self, fname, shell_futures, raise_exceptions)\u001b[0m\n\u001b[1;32m   2809\u001b[0m result \u001b[38;5;241m=\u001b[39m \u001b[38;5;28mself\u001b[39m\u001b[38;5;241m.\u001b[39mrun_cell(cell, silent\u001b[38;5;241m=\u001b[39m\u001b[38;5;28;01mTrue\u001b[39;00m, shell_futures\u001b[38;5;241m=\u001b[39mshell_futures)\n\u001b[1;32m   2810\u001b[0m \u001b[38;5;28;01mif\u001b[39;00m raise_exceptions:\n\u001b[0;32m-> 2811\u001b[0m     \u001b[43mresult\u001b[49m\u001b[38;5;241;43m.\u001b[39;49m\u001b[43mraise_error\u001b[49m\u001b[43m(\u001b[49m\u001b[43m)\u001b[49m\n\u001b[1;32m   2812\u001b[0m \u001b[38;5;28;01melif\u001b[39;00m \u001b[38;5;129;01mnot\u001b[39;00m result\u001b[38;5;241m.\u001b[39msuccess:\n\u001b[1;32m   2813\u001b[0m     \u001b[38;5;28;01mbreak\u001b[39;00m\n",
      "File \u001b[0;32m/usr/local/share/pynq-venv/lib/python3.10/site-packages/IPython/core/interactiveshell.py:251\u001b[0m, in \u001b[0;36mExecutionResult.raise_error\u001b[0;34m(self)\u001b[0m\n\u001b[1;32m    249\u001b[0m     \u001b[38;5;28;01mraise\u001b[39;00m \u001b[38;5;28mself\u001b[39m\u001b[38;5;241m.\u001b[39merror_before_exec\n\u001b[1;32m    250\u001b[0m \u001b[38;5;28;01mif\u001b[39;00m \u001b[38;5;28mself\u001b[39m\u001b[38;5;241m.\u001b[39merror_in_exec \u001b[38;5;129;01mis\u001b[39;00m \u001b[38;5;129;01mnot\u001b[39;00m \u001b[38;5;28;01mNone\u001b[39;00m:\n\u001b[0;32m--> 251\u001b[0m     \u001b[38;5;28;01mraise\u001b[39;00m \u001b[38;5;28mself\u001b[39m\u001b[38;5;241m.\u001b[39merror_in_exec\n",
      "    \u001b[0;31m[... skipping hidden 1 frame]\u001b[0m\n",
      "File \u001b[0;32m/tmp/ipykernel_19502/971105306.py:1\u001b[0m, in \u001b[0;36m<cell line: 1>\u001b[0;34m()\u001b[0m\n\u001b[0;32m----> 1\u001b[0m nb_bytes_per_token_cmd \u001b[38;5;241m=\u001b[39m \u001b[43mconfig\u001b[49m[\u001b[38;5;124m\"\u001b[39m\u001b[38;5;124mTEST_FILE\u001b[39m\u001b[38;5;124m\"\u001b[39m][\u001b[38;5;124m\"\u001b[39m\u001b[38;5;124mnb_bytes_per_token_cmd\u001b[39m\u001b[38;5;124m\"\u001b[39m]\n\u001b[1;32m      2\u001b[0m nb_bytes_per_token_addr \u001b[38;5;241m=\u001b[39m config[\u001b[38;5;124m\"\u001b[39m\u001b[38;5;124mTEST_FILE\u001b[39m\u001b[38;5;124m\"\u001b[39m][\u001b[38;5;124m\"\u001b[39m\u001b[38;5;124mnb_bytes_per_token_addr\u001b[39m\u001b[38;5;124m\"\u001b[39m]\n\u001b[1;32m      3\u001b[0m nb_bytes_per_token_data \u001b[38;5;241m=\u001b[39m config[\u001b[38;5;124m\"\u001b[39m\u001b[38;5;124mTEST_FILE\u001b[39m\u001b[38;5;124m\"\u001b[39m][\u001b[38;5;124m\"\u001b[39m\u001b[38;5;124mnb_bytes_per_token_data\u001b[39m\u001b[38;5;124m\"\u001b[39m]\n",
      "\u001b[0;31mNameError\u001b[0m: name 'config' is not defined"
     ]
    }
   ],
   "source": [
    "import package as pkg\n",
    "\n",
    "import nb as nb\n",
    "import nb.spi as spi\n",
    "import nb.reports.builder_html as builder_html\n",
    "import nb.reports.builder_txt as builder_txt\n",
    "        \n",
    "\n",
    "import os \n",
    "\n",
    "spi.cnfg_master_spi(AxiQspi, clk_phase=0, clk_pol=0)\n",
    "\n",
    "# ALL tests config :\n",
    "if (pkg.all_test_config[\"activate\"]) :\n",
    "    all_test_files = os.listdir(\"./data\")\n",
    "    ignored_test_files = pkg.all_test_config['ignored_test_files']\n",
    "    list_test_files = [f for f in all_test_files if f not in ignored_test_files]\n",
    "    for test_file in list_test_files:\n",
    "        test_file_name = test_file[:-4] # remove the txt extension\n",
    "        test_file_path = 'data/' + test_file_name + '.txt'\n",
    "        print(f\"Currently sending test data from {test_file_name + '.txt'} \")\n",
    "        \n",
    "        if (pkg.activate_result_file_html):\n",
    "            result_file_html = builder_html.init_html_result_file(test_file_name, test_file_path, css_file)\n",
    "\n",
    "        if (pkg.activate_result_file_txt):\n",
    "            result_file_txt = builder_txt.init_txt_result_file(test_file_name, test_file_path)\n",
    "        \n",
    "        last_rd_data = [] # keep in memory the last read data for cmp commands\n",
    "        with open(test_file_path,\"r\") as test_file_opened:\n",
    "            parsed_file = nb.run_parse_loop(test_file_opened, result_file_html, result_file_txt)\n",
    "            number_cmd_test_file = len(parsed_file)\n",
    "            for indice_command_from_test_file in range(1,number_cmd_test_file+1):\n",
    "                parsed_line = parsed_file[indice_command_from_test_file]\n",
    "                last_rd_data = nb.command_disjunction(AxiQspi, result_file_html, result_file_txt, indice_command_from_test_file, parsed_line, last_rd_data)\n",
    "                \n",
    "        if (pkg.activate_result_file_html):\n",
    "            builder_html.end_html_result_file()\n",
    "\n",
    "        if (pkg.activate_result_file_txt):\n",
    "            builder_txt.end_txt_result_file()\n",
    "                \n",
    "        print(f\"Finished sending test data from {test_file + '.txt'} \")\n",
    "     \n",
    "    \n",
    "    \n",
    "# SINGLE test config :\n",
    "if (pkg.single_test_config[\"activate\"]) :\n",
    "    test_file_name = pkg.single_test_config['test_file'] \n",
    "    test_file_path = 'data/' + test_file_name + '.txt'\n",
    "    print(f\"Currently sending test data from {test_file_name + '.txt'} \")\n",
    "\n",
    "    if (pkg.activate_result_file_html):\n",
    "        result_file_html = builder_html.init_html_result_file(test_file_name, test_file_path, css_file)\n",
    "\n",
    "    if (pkg.activate_result_file_txt):\n",
    "        result_file_txt = builder_txt.init_txt_result_file(test_file_name, test_file_path)\n",
    "    \n",
    "    last_rd_data = [] # keep in memory th  e last read data for cmp commands\n",
    "    with open(test_file_path,\"r\") as test_file_opened: \n",
    "        parsed_file = nb.run_parse_loop(test_file_opened, result_file_html, result_file_txt)\n",
    "        number_cmd_test_file = len(parsed_file)\n",
    "        for indice_command_from_test_file in range(1,number_cmd_test_file+1):\n",
    "            parsed_line = parsed_file[indice_command_from_test_file]\n",
    "            last_rd_data = nb.command_disjunction(AxiQspi, result_file_html, result_file_txt, indice_command_from_test_file, parsed_line, last_rd_data)\n",
    "            \n",
    "    if (pkg.activate_result_file_html):\n",
    "        builder_html.end_html_result_file()\n",
    "\n",
    "    if (pkg.activate_result_file_txt):\n",
    "        builder_txt.end_txt_result_file()\n",
    "            \n",
    "    print(f\"Finished sending test data from {test_file_name + '.txt'} \")\n",
    "    "
   ]
  },
  {
   "cell_type": "code",
   "execution_count": null,
   "id": "d3b1d59c-9242-44c2-a4d4-a940aec988a0",
   "metadata": {},
   "outputs": [],
   "source": [
    "# Show clocks frequency\n",
    "# from pynq import Clocks\n",
    "# print(f'FCLK0: {Clocks.fclk0_mhz:.6f}MHz')\n",
    "# print(f'FCLK1: {Clocks.fclk1_mhz:.6f}MHz')"
   ]
  },
  {
   "cell_type": "code",
   "execution_count": null,
   "id": "a4b9b4f2-a7e8-4be7-88fb-22de08d0ff72",
   "metadata": {},
   "outputs": [],
   "source": []
  }
 ],
 "metadata": {
  "kernelspec": {
   "display_name": "Python 3 (ipykernel)",
   "language": "python",
   "name": "python3"
  },
  "language_info": {
   "codemirror_mode": {
    "name": "ipython",
    "version": 3
   },
   "file_extension": ".py",
   "mimetype": "text/x-python",
   "name": "python",
   "nbconvert_exporter": "python",
   "pygments_lexer": "ipython3",
   "version": "3.10.4"
  },
  "toc-autonumbering": false
 },
 "nbformat": 4,
 "nbformat_minor": 5
}
