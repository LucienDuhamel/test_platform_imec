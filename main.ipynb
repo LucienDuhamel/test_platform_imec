{
 "cells": [
  {
   "cell_type": "markdown",
   "id": "e1c7e421-18f6-4480-87ba-3775daa2aef0",
   "metadata": {},
   "source": [
    "To only run one time at the beginning of the test (unless you want to change the current overlay) :"
   ]
  },
  {
   "cell_type": "code",
   "execution_count": 27,
   "id": "2d5439f5",
   "metadata": {
    "tags": []
   },
   "outputs": [],
   "source": [
    "from pynq import Overlay\n",
    "ol = Overlay(\"hardware/design_qspi.bit\")"
   ]
  },
  {
   "cell_type": "markdown",
   "id": "d0f9f4a1-8ce7-4821-abc7-c616ca2f4de4",
   "metadata": {},
   "source": [
    "To run only if you made change in the overlay :"
   ]
  },
  {
   "cell_type": "code",
   "execution_count": 28,
   "id": "fcaf040b-a580-48b6-8132-f7f25c4ad903",
   "metadata": {},
   "outputs": [],
   "source": [
    "ol.download()\n",
    "# ol?"
   ]
  },
  {
   "cell_type": "markdown",
   "id": "8d602c4b-2bf8-4dc2-818a-35d7a49fde93",
   "metadata": {},
   "source": [
    "We define our SPI hardware object : AxiQspi."
   ]
  },
  {
   "cell_type": "code",
   "execution_count": 29,
   "id": "615fc811-e2a5-4888-98c8-afabd4a9946f",
   "metadata": {},
   "outputs": [],
   "source": [
    "from pynq import MMIO\n",
    "\n",
    "SPI_regSpace = ol.ip_dict['axi_quad_spi_0']\n",
    "IP_BASE_ADDRESS = SPI_regSpace['phys_addr']\n",
    "IP_ADDRESS_RNGE = SPI_regSpace['addr_range']\n",
    "AxiQspi = MMIO(IP_BASE_ADDRESS, IP_ADDRESS_RNGE)"
   ]
  },
  {
   "cell_type": "markdown",
   "id": "2edeae3d-cd34-437f-9c90-c3d63eea3179",
   "metadata": {},
   "source": [
    "Open the config file"
   ]
  },
  {
   "cell_type": "code",
   "execution_count": 30,
   "id": "025cf4dc-1c90-4785-a755-2acf8ae5edb4",
   "metadata": {},
   "outputs": [],
   "source": [
    "with open(\"style.css\",\"r\") as file:\n",
    "        css_file = file.read()\n",
    "# print(css_file)"
   ]
  },
  {
   "cell_type": "code",
   "execution_count": 46,
   "id": "515b7fb7-1897-49bb-b424-de43c7f6f3ae",
   "metadata": {},
   "outputs": [],
   "source": [
    "import yaml\n",
    "with open(\"config.yaml\",\"r\") as file:\n",
    "        config_data = yaml.safe_load(file)\n",
    "        # print(config_data)"
   ]
  },
  {
   "cell_type": "code",
   "execution_count": 47,
   "id": "da8a612c-87d5-49ac-b882-289a691e59dd",
   "metadata": {},
   "outputs": [],
   "source": [
    "%run nb/messages.ipynb\n",
    "\n",
    "# Config setup\n",
    "global activate_exceptions # No mandatory using jupyterlab but will be if using a new method\n",
    "activate_exceptions = config_data[\"LAUNCH_CONFIG\"][\"activate_exceptions\"]\n",
    "\n",
    "single_test_config = config_data[\"LAUNCH_CONFIG\"][\"single_test\"]\n",
    "all_test_config = config_data[\"LAUNCH_CONFIG\"][\"all_tests\"]\n",
    "\n",
    "if (single_test_config[\"bool\"] and all_test_config[\"bool\"]):\n",
    "    test_config_error()"
   ]
  },
  {
   "cell_type": "markdown",
   "id": "f4b3dad1-5582-4901-9aad-70562c6145ce",
   "metadata": {},
   "source": [
    "Define the result file : don't forget to change its name in config.yaml if you don't want to erase the last results"
   ]
  },
  {
   "cell_type": "code",
   "execution_count": 48,
   "id": "fdec680a-141d-4d86-a020-3fac65e5ef86",
   "metadata": {
    "tags": []
   },
   "outputs": [],
   "source": [
    "result_file_path = \"out/\" + config_data[\"RESULT_FILE\"][\"name\"] + '_results.txt'"
   ]
  },
  {
   "cell_type": "raw",
   "id": "d66ab1b5-9ec7-4ab5-ac1c-a43197e2edee",
   "metadata": {},
   "source": [
    "Trying to run every testfiles from data folder :"
   ]
  },
  {
   "cell_type": "code",
   "execution_count": 49,
   "id": "149efd50-9810-4b53-a93f-04479419fda1",
   "metadata": {},
   "outputs": [
    {
     "name": "stdout",
     "output_type": "stream",
     "text": [
      "Configure device\n",
      "Currently sending test data from test_cmp.txt \n",
      "Finished sending test data from test_cmp.txt \n",
      "Currently sending test data from test2.txt \n",
      "Finished sending test data from test2.txt \n",
      "Currently sending test data from test1.txt \n",
      "Finished sending test data from test1.txt \n",
      "Currently sending test data from test_bist_basic.txt \n",
      "Finished sending test data from test_bist_basic.txt \n",
      "Currently sending test data from test1_onchip_clk.txt \n",
      "Finished sending test data from test1_onchip_clk.txt \n",
      "Currently sending test data from test_bist_halt_example.txt \n",
      "Finished sending test data from test_bist_halt_example.txt \n",
      "Currently sending test data from test3.txt \n",
      "Finished sending test data from test3.txt \n",
      "Currently sending test data from test_bist_array_0_full_range.txt \n",
      "Finished sending test data from test_bist_array_0_full_range.txt \n",
      "Currently sending test data from test4.txt \n",
      "Finished sending test data from test4.txt \n"
     ]
    }
   ],
   "source": [
    "%run nb/parse.ipynb\n",
    "%run nb/translator.ipynb\n",
    "%run nb/spi/spi_driver.ipynb\n",
    "%run nb/spi/spi_pkg.ipynb\n",
    "%run nb/messages.ipynb\n",
    "%run nb/converter.ipynb\n",
    "%run nb/package.ipynb\n",
    "\n",
    "\n",
    "import os \n",
    "#change to cnfg_master_spi\n",
    "cnfg_master_spi(AxiQspi, clk_phase=0, clk_pol=0)\n",
    "# ALL tests config :\n",
    "if (all_test_config[\"bool\"]) :\n",
    "    all_test_files = os.listdir(\"./data\")\n",
    "    ignored_test_files = all_test_config['ignored_test_files']\n",
    "    list_test_files = [f for f in all_test_files if f not in ignored_test_files]\n",
    "    for test_file in list_test_files:\n",
    "        test_file = test_file[:-4] # remove the txt extension\n",
    "        result_file_path = \"out/\" + test_file + '_results.html'\n",
    "        test_file_path = 'data/' + test_file + '.txt'\n",
    "        print(f\"Currently sending test data from {test_file + '.txt'} \")\n",
    "\n",
    "        rd_data_queue = [] \n",
    "        with open(result_file_path,\"w\") as result_file:\n",
    "            result_file_title = \"Output Data in an HTML file\"\n",
    "            header_content = f'Results from {test_file}'\n",
    "            html_content = initiate_html_content(result_file_title, css_file, header_content)\n",
    "            result_file.write(html_content)\n",
    "\n",
    "            with open(test_file_path,\"r\") as test_file_opened:\n",
    "                parsed_file = run_parse_loop(test_file_opened, result_file)\n",
    "                for parsed_line in parsed_file:\n",
    "                    command_disjunction(AxiQspi, result_file, parsed_line, rd_data_queue)\n",
    "\n",
    "            result_file.write(end_html())\n",
    "        print(f\"Finished sending test data from {test_file + '.txt'} \")\n",
    "     \n",
    "    \n",
    "    \n",
    "# SINGLE test config :\n",
    "if (single_test_config[\"bool\"]) :\n",
    "    test_file = single_test_config['test_file'] \n",
    "    result_file_path = \"out/\" + test_file + '_results.html'\n",
    "    test_file_path = 'data/' + test_file + '.txt'\n",
    "    print(f\"Currently sending test data from {test_file + '.txt'} \")\n",
    "\n",
    "    rd_data_queue = [] \n",
    "    with open(result_file_path,\"w\") as result_file:\n",
    "        header_content = f'Results from {test_file}'\n",
    "        html_content = initiate_html_content(result_file_title, css_file, header_content)\n",
    "        result_file.write(html_content)\n",
    "\n",
    "        with open(test_file_path,\"r\") as test_file_opened:\n",
    "            parsed_file = run_parse_loop(test_file_opened, result_file)\n",
    "            for parsed_line in parsed_file:\n",
    "                command_disjunction(AxiQspi, result_file, parsed_line, rd_data_queue)\n",
    "\n",
    "        result_file.write(end_html())\n",
    "    print(f\"Finished sending test data from {test_file + '.txt'} \")"
   ]
  },
  {
   "cell_type": "code",
   "execution_count": null,
   "id": "d3b1d59c-9242-44c2-a4d4-a940aec988a0",
   "metadata": {},
   "outputs": [],
   "source": []
  }
 ],
 "metadata": {
  "kernelspec": {
   "display_name": "Python 3 (ipykernel)",
   "language": "python",
   "name": "python3"
  },
  "language_info": {
   "codemirror_mode": {
    "name": "ipython",
    "version": 3
   },
   "file_extension": ".py",
   "mimetype": "text/x-python",
   "name": "python",
   "nbconvert_exporter": "python",
   "pygments_lexer": "ipython3",
   "version": "3.10.4"
  },
  "toc-autonumbering": false
 },
 "nbformat": 4,
 "nbformat_minor": 5
}
