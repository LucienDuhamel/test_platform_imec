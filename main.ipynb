{
 "cells": [
  {
   "cell_type": "markdown",
   "id": "e1c7e421-18f6-4480-87ba-3775daa2aef0",
   "metadata": {},
   "source": [
    "To only run one time at the beginning of the test (unless you want to change the current overlay) :"
   ]
  },
  {
   "cell_type": "code",
   "execution_count": 1,
   "id": "2d5439f5",
   "metadata": {
    "tags": []
   },
   "outputs": [
    {
     "data": {
      "application/javascript": [
       "\n",
       "try {\n",
       "require(['notebook/js/codecell'], function(codecell) {\n",
       "  codecell.CodeCell.options_default.highlight_modes[\n",
       "      'magic_text/x-csrc'] = {'reg':[/^%%microblaze/]};\n",
       "  Jupyter.notebook.events.one('kernel_ready.Kernel', function(){\n",
       "      Jupyter.notebook.get_cells().map(function(cell){\n",
       "          if (cell.cell_type == 'code'){ cell.auto_highlight(); } }) ;\n",
       "  });\n",
       "});\n",
       "} catch (e) {};\n"
      ]
     },
     "metadata": {},
     "output_type": "display_data"
    },
    {
     "data": {
      "application/javascript": [
       "\n",
       "try {\n",
       "require(['notebook/js/codecell'], function(codecell) {\n",
       "  codecell.CodeCell.options_default.highlight_modes[\n",
       "      'magic_text/x-csrc'] = {'reg':[/^%%pybind11/]};\n",
       "  Jupyter.notebook.events.one('kernel_ready.Kernel', function(){\n",
       "      Jupyter.notebook.get_cells().map(function(cell){\n",
       "          if (cell.cell_type == 'code'){ cell.auto_highlight(); } }) ;\n",
       "  });\n",
       "});\n",
       "} catch (e) {};\n"
      ]
     },
     "metadata": {},
     "output_type": "display_data"
    }
   ],
   "source": [
    "from pynq import Overlay\n",
    "ol = Overlay(\"hardware/design_qspi.bit\")"
   ]
  },
  {
   "cell_type": "markdown",
   "id": "d0f9f4a1-8ce7-4821-abc7-c616ca2f4de4",
   "metadata": {},
   "source": [
    "To run only if you made change in the overlay :"
   ]
  },
  {
   "cell_type": "code",
   "execution_count": 2,
   "id": "fcaf040b-a580-48b6-8132-f7f25c4ad903",
   "metadata": {},
   "outputs": [],
   "source": [
    "ol.download()\n",
    "# ol?"
   ]
  },
  {
   "cell_type": "markdown",
   "id": "8d602c4b-2bf8-4dc2-818a-35d7a49fde93",
   "metadata": {},
   "source": [
    "We define our SPI hardware object : AxiQspi."
   ]
  },
  {
   "cell_type": "code",
   "execution_count": 3,
   "id": "615fc811-e2a5-4888-98c8-afabd4a9946f",
   "metadata": {},
   "outputs": [],
   "source": [
    "from pynq import MMIO\n",
    "\n",
    "SPI_regSpace = ol.ip_dict['axi_quad_spi_0']\n",
    "IP_BASE_ADDRESS = SPI_regSpace['phys_addr']\n",
    "IP_ADDRESS_RNGE = SPI_regSpace['addr_range']\n",
    "AxiQspi = MMIO(IP_BASE_ADDRESS, IP_ADDRESS_RNGE)"
   ]
  },
  {
   "cell_type": "markdown",
   "id": "2edeae3d-cd34-437f-9c90-c3d63eea3179",
   "metadata": {},
   "source": [
    "Open the config file"
   ]
  },
  {
   "cell_type": "code",
   "execution_count": 4,
   "id": "025cf4dc-1c90-4785-a755-2acf8ae5edb4",
   "metadata": {},
   "outputs": [],
   "source": [
    "with open(\"style.css\",\"r\") as file:\n",
    "        css_file = file.read()\n",
    "# print(css_file)"
   ]
  },
  {
   "cell_type": "code",
   "execution_count": 5,
   "id": "515b7fb7-1897-49bb-b424-de43c7f6f3ae",
   "metadata": {},
   "outputs": [],
   "source": [
    "import yaml\n",
    "with open(\"config.yaml\",\"r\") as file:\n",
    "        config_data = yaml.safe_load(file)\n",
    "        # print(config_data)"
   ]
  },
  {
   "cell_type": "code",
   "execution_count": 6,
   "id": "da8a612c-87d5-49ac-b882-289a691e59dd",
   "metadata": {},
   "outputs": [],
   "source": [
    "%run nb/messages.ipynb\n",
    "\n",
    "# Config setup\n",
    "global activate_exceptions # No mandatory using jupyterlab but will be if using a new method\n",
    "activate_exceptions = config_data[\"LAUNCH_CONFIG\"][\"activate_exceptions\"]\n",
    "\n",
    "single_test_config = config_data[\"LAUNCH_CONFIG\"][\"single_test\"]\n",
    "all_test_config = config_data[\"LAUNCH_CONFIG\"][\"all_tests\"]\n",
    "\n",
    "if (single_test_config[\"bool\"] and all_test_config[\"bool\"]):\n",
    "    test_config_error()"
   ]
  },
  {
   "cell_type": "markdown",
   "id": "f4b3dad1-5582-4901-9aad-70562c6145ce",
   "metadata": {},
   "source": [
    "Define the result file : don't forget to change its name in config.yaml if you don't want to erase the last results"
   ]
  },
  {
   "cell_type": "code",
   "execution_count": 7,
   "id": "fdec680a-141d-4d86-a020-3fac65e5ef86",
   "metadata": {
    "tags": []
   },
   "outputs": [],
   "source": [
    "result_file_path = \"out/\" + config_data[\"RESULT_FILE\"][\"name\"] + '_results.txt'"
   ]
  },
  {
   "cell_type": "raw",
   "id": "d66ab1b5-9ec7-4ab5-ac1c-a43197e2edee",
   "metadata": {},
   "source": [
    "Trying to run every testfiles from data folder :"
   ]
  },
  {
   "cell_type": "code",
   "execution_count": 8,
   "id": "149efd50-9810-4b53-a93f-04479419fda1",
   "metadata": {},
   "outputs": [
    {
     "name": "stdout",
     "output_type": "stream",
     "text": [
      "Configure device\n",
      "Currently sending test data from test_cmp.txt \n",
      "Finished sending test data from test_cmp.txt \n",
      "Currently sending test data from test2.txt \n",
      "Finished sending test data from test2.txt \n",
      "Currently sending test data from test1.txt \n",
      "Finished sending test data from test1.txt \n",
      "Currently sending test data from test_bist_basic.txt \n",
      "Finished sending test data from test_bist_basic.txt \n",
      "Currently sending test data from test1_onchip_clk.txt \n",
      "Finished sending test data from test1_onchip_clk.txt \n",
      "Currently sending test data from test_bist_halt_example.txt \n",
      "Finished sending test data from test_bist_halt_example.txt \n",
      "Currently sending test data from test3.txt \n",
      "Finished sending test data from test3.txt \n",
      "Currently sending test data from test_bist_array_0_full_range.txt \n",
      "Finished sending test data from test_bist_array_0_full_range.txt \n",
      "Currently sending test data from test4.txt \n",
      "Finished sending test data from test4.txt \n"
     ]
    }
   ],
   "source": [
    "%run nb/parse.ipynb\n",
    "%run nb/translator.ipynb\n",
    "%run nb/spi/spi_driver.ipynb\n",
    "%run nb/spi/spi_pkg.ipynb\n",
    "%run nb/messages.ipynb\n",
    "%run nb/converter.ipynb\n",
    "%run nb/package.ipynb\n",
    "\n",
    "\n",
    "import os \n",
    "cnfg(AxiQspi, clk_phase=0, clk_pol=0)\n",
    "# ALL tests config :\n",
    "if (all_test_config[\"bool\"]) :\n",
    "    ignored_test_files = all_test_config['ignored_test_files']\n",
    "    for test_file in os.listdir(\"./data\"):\n",
    "        # Change the config data to ignore some test files \n",
    "        if test_file not in ignored_test_files :\n",
    "            test_file = test_file[:-4] # remove the txt extension\n",
    "            result_file_path = \"out/\" + test_file + '_results.html'\n",
    "            test_file_path = 'data/' + test_file + '.txt'\n",
    "            print(f\"Currently sending test data from {test_file + '.txt'} \")\n",
    "\n",
    "            rd_data_queue = [] \n",
    "            with open(result_file_path,\"w\") as result_file:\n",
    "                result_file_title = \"Output Data in an HTML file\"\n",
    "                header_content = f'Results from {test_file}'\n",
    "                html_content = initiate_html_content(result_file_title, css_file, header_content)\n",
    "                result_file.write(html_content)\n",
    "\n",
    "                with open(test_file_path,\"r\") as test_file_opened:\n",
    "                    parsed_file = run_parse_loop(test_file_opened, result_file)\n",
    "                    for parsed_line in parsed_file:\n",
    "                        command_disjunction(AxiQspi, result_file, parsed_line, rd_data_queue)\n",
    "\n",
    "                result_file.write(end_html())\n",
    "            print(f\"Finished sending test data from {test_file + '.txt'} \")\n",
    "     \n",
    "    \n",
    "    \n",
    "# SINGLE test config :\n",
    "if (single_test_config[\"bool\"]) :\n",
    "    test_file = single_test_config['test_file'] \n",
    "    result_file_path = \"out/\" + test_file + '_results.html'\n",
    "    test_file_path = 'data/' + test_file + '.txt'\n",
    "    print(f\"Currently sending test data from {test_file + '.txt'} \")\n",
    "\n",
    "    rd_data_queue = [] \n",
    "    with open(result_file_path,\"w\") as result_file:\n",
    "        header_content = f'Results from {test_file}'\n",
    "        html_content = initiate_html_content(result_file_title, css_file, header_content)\n",
    "        result_file.write(html_content)\n",
    "\n",
    "        with open(test_file_path,\"r\") as test_file_opened:\n",
    "            parsed_file = run_parse_loop(test_file_opened, result_file)\n",
    "            for parsed_line in parsed_file:\n",
    "                command_disjunction(AxiQspi, result_file, parsed_line, rd_data_queue)\n",
    "\n",
    "        result_file.write(end_html())\n",
    "    print(f\"Finished sending test data from {test_file + '.txt'} \")"
   ]
  },
  {
   "cell_type": "markdown",
   "id": "44a4cd15-0537-4097-981c-b83497713337",
   "metadata": {},
   "source": [
    "Command to export project : \n",
    "The name of the exported zip is project_test_platform"
   ]
  },
  {
   "cell_type": "code",
   "execution_count": 11,
   "id": "0692bc4c-88c1-4d17-a935-45fbb3776c3b",
   "metadata": {},
   "outputs": [
    {
     "name": "stdout",
     "output_type": "stream",
     "text": [
      "Zipping your project...\n",
      "  adding: home/xilinx/jupyter_notebooks/MyWork/ (stored 0%)\n",
      "  adding: home/xilinx/jupyter_notebooks/MyWork/nb/ (stored 0%)\n",
      "  adding: home/xilinx/jupyter_notebooks/MyWork/nb/converter.ipynb (deflated 62%)\n",
      "  adding: home/xilinx/jupyter_notebooks/MyWork/nb/package.ipynb (deflated 52%)\n",
      "  adding: home/xilinx/jupyter_notebooks/MyWork/nb/parse.ipynb (deflated 67%)\n",
      "  adding: home/xilinx/jupyter_notebooks/MyWork/nb/.ipynb_checkpoints/ (stored 0%)\n",
      "  adding: home/xilinx/jupyter_notebooks/MyWork/nb/.ipynb_checkpoints/package-checkpoint.ipynb (deflated 52%)\n",
      "  adding: home/xilinx/jupyter_notebooks/MyWork/nb/.ipynb_checkpoints/messages-checkpoint.ipynb (deflated 79%)\n",
      "  adding: home/xilinx/jupyter_notebooks/MyWork/nb/.ipynb_checkpoints/converter-checkpoint.ipynb (deflated 62%)\n",
      "  adding: home/xilinx/jupyter_notebooks/MyWork/nb/.ipynb_checkpoints/translator-checkpoint.ipynb (deflated 78%)\n",
      "  adding: home/xilinx/jupyter_notebooks/MyWork/nb/.ipynb_checkpoints/parse-checkpoint.ipynb (deflated 67%)\n",
      "  adding: home/xilinx/jupyter_notebooks/MyWork/nb/translator.ipynb (deflated 78%)\n",
      "  adding: home/xilinx/jupyter_notebooks/MyWork/nb/messages.ipynb (deflated 79%)\n",
      "  adding: home/xilinx/jupyter_notebooks/MyWork/nb/spi/ (stored 0%)\n",
      "  adding: home/xilinx/jupyter_notebooks/MyWork/nb/spi/spi_pkg.ipynb (deflated 63%)\n",
      "  adding: home/xilinx/jupyter_notebooks/MyWork/nb/spi/.ipynb_checkpoints/ (stored 0%)\n",
      "  adding: home/xilinx/jupyter_notebooks/MyWork/nb/spi/.ipynb_checkpoints/spi_driver-checkpoint.ipynb (deflated 72%)\n",
      "  adding: home/xilinx/jupyter_notebooks/MyWork/nb/spi/.ipynb_checkpoints/spi_pkg-checkpoint.ipynb (deflated 63%)\n",
      "  adding: home/xilinx/jupyter_notebooks/MyWork/nb/spi/spi_driver.ipynb (deflated 72%)\n",
      "  adding: home/xilinx/jupyter_notebooks/MyWork/config.yaml (deflated 48%)\n",
      "  adding: home/xilinx/jupyter_notebooks/MyWork/hardware/ (stored 0%)\n",
      "  adding: home/xilinx/jupyter_notebooks/MyWork/hardware/design_qspi.hwh (deflated 90%)\n",
      "  adding: home/xilinx/jupyter_notebooks/MyWork/hardware/design_qspi.tcl (deflated 64%)\n",
      "  adding: home/xilinx/jupyter_notebooks/MyWork/hardware/design_qspi.bit (deflated 97%)\n",
      "  adding: home/xilinx/jupyter_notebooks/MyWork/hardware/.ipynb_checkpoints/ (stored 0%)\n",
      "  adding: home/xilinx/jupyter_notebooks/MyWork/export_project.sh (deflated 28%)\n",
      "  adding: home/xilinx/jupyter_notebooks/MyWork/.git/ (stored 0%)\n",
      "  adding: home/xilinx/jupyter_notebooks/MyWork/.git/index (deflated 52%)\n",
      "  adding: home/xilinx/jupyter_notebooks/MyWork/.git/refs/ (stored 0%)\n",
      "  adding: home/xilinx/jupyter_notebooks/MyWork/.git/refs/heads/ (stored 0%)\n",
      "  adding: home/xilinx/jupyter_notebooks/MyWork/.git/refs/tags/ (stored 0%)\n",
      "  adding: home/xilinx/jupyter_notebooks/MyWork/.git/branches/ (stored 0%)\n",
      "  adding: home/xilinx/jupyter_notebooks/MyWork/.git/hooks/ (stored 0%)\n",
      "  adding: home/xilinx/jupyter_notebooks/MyWork/.git/hooks/post-update.sample (deflated 27%)\n",
      "  adding: home/xilinx/jupyter_notebooks/MyWork/.git/hooks/pre-receive.sample (deflated 40%)\n",
      "  adding: home/xilinx/jupyter_notebooks/MyWork/.git/hooks/pre-commit.sample (deflated 45%)\n",
      "  adding: home/xilinx/jupyter_notebooks/MyWork/.git/hooks/pre-applypatch.sample (deflated 38%)\n",
      "  adding: home/xilinx/jupyter_notebooks/MyWork/.git/hooks/commit-msg.sample (deflated 44%)\n",
      "  adding: home/xilinx/jupyter_notebooks/MyWork/.git/hooks/pre-merge-commit.sample (deflated 39%)\n",
      "  adding: home/xilinx/jupyter_notebooks/MyWork/.git/hooks/pre-push.sample (deflated 49%)\n",
      "  adding: home/xilinx/jupyter_notebooks/MyWork/.git/hooks/prepare-commit-msg.sample (deflated 50%)\n",
      "  adding: home/xilinx/jupyter_notebooks/MyWork/.git/hooks/push-to-checkout.sample (deflated 55%)\n",
      "  adding: home/xilinx/jupyter_notebooks/MyWork/.git/hooks/applypatch-msg.sample (deflated 42%)\n",
      "  adding: home/xilinx/jupyter_notebooks/MyWork/.git/hooks/update.sample (deflated 68%)\n",
      "  adding: home/xilinx/jupyter_notebooks/MyWork/.git/hooks/fsmonitor-watchman.sample (deflated 62%)\n",
      "  adding: home/xilinx/jupyter_notebooks/MyWork/.git/hooks/pre-rebase.sample (deflated 59%)\n",
      "  adding: home/xilinx/jupyter_notebooks/MyWork/.git/objects/ (stored 0%)\n",
      "  adding: home/xilinx/jupyter_notebooks/MyWork/.git/objects/4a/ (stored 0%)\n",
      "  adding: home/xilinx/jupyter_notebooks/MyWork/.git/objects/4a/edd933f16f5087d67f9203ad73b001eae3bba1 (stored 0%)\n",
      "  adding: home/xilinx/jupyter_notebooks/MyWork/.git/objects/6e/ (stored 0%)\n",
      "  adding: home/xilinx/jupyter_notebooks/MyWork/.git/objects/6e/16d3d7a56c438d70a7138ade614a2d9bb97d31 (stored 0%)\n",
      "  adding: home/xilinx/jupyter_notebooks/MyWork/.git/objects/6e/5f29d3c4ec0631c3d23fd777fd7eba35aafec5 (stored 0%)\n",
      "  adding: home/xilinx/jupyter_notebooks/MyWork/.git/objects/ae/ (stored 0%)\n",
      "  adding: home/xilinx/jupyter_notebooks/MyWork/.git/objects/ae/bbd4885bde30f9ce0c989571209d3ae6fe19a1 (stored 0%)\n",
      "  adding: home/xilinx/jupyter_notebooks/MyWork/.git/objects/67/ (stored 0%)\n",
      "  adding: home/xilinx/jupyter_notebooks/MyWork/.git/objects/67/7e1825c0ca9250c944fea2ed2d283793b8394a (stored 0%)\n",
      "  adding: home/xilinx/jupyter_notebooks/MyWork/.git/objects/b0/ (stored 0%)\n",
      "  adding: home/xilinx/jupyter_notebooks/MyWork/.git/objects/b0/d3e1dea0fe7777d0f877381033f63116254a26 (stored 0%)\n",
      "  adding: home/xilinx/jupyter_notebooks/MyWork/.git/objects/76/ (stored 0%)\n",
      "  adding: home/xilinx/jupyter_notebooks/MyWork/.git/objects/76/62d9b0f708c13a149d30f7f7f66397456b153d (stored 0%)\n",
      "  adding: home/xilinx/jupyter_notebooks/MyWork/.git/objects/ad/ (stored 0%)\n",
      "  adding: home/xilinx/jupyter_notebooks/MyWork/.git/objects/ad/967a0830f0c5dc5e40b924f56ffb0cbb17f03b (stored 0%)\n",
      "  adding: home/xilinx/jupyter_notebooks/MyWork/.git/objects/36/ (stored 0%)\n",
      "  adding: home/xilinx/jupyter_notebooks/MyWork/.git/objects/36/3fcab7ed6e9634e198cf5555ceb88932c9a245 (stored 0%)\n",
      "  adding: home/xilinx/jupyter_notebooks/MyWork/.git/objects/d1/ (stored 0%)\n",
      "  adding: home/xilinx/jupyter_notebooks/MyWork/.git/objects/d1/d3284f613b996b6311023bf2e2a0b9284e164e (stored 0%)\n",
      "  adding: home/xilinx/jupyter_notebooks/MyWork/.git/objects/e6/ (stored 0%)\n",
      "  adding: home/xilinx/jupyter_notebooks/MyWork/.git/objects/e6/c096b4b0d85e70f460397d72c225aac009c6f2 (stored 0%)\n",
      "  adding: home/xilinx/jupyter_notebooks/MyWork/.git/objects/e6/9de29bb2d1d6434b8b29ae775ad8c2e48c5391 (stored 0%)\n",
      "  adding: home/xilinx/jupyter_notebooks/MyWork/.git/objects/81/ (stored 0%)\n",
      "  adding: home/xilinx/jupyter_notebooks/MyWork/.git/objects/81/edd37f384dfc69ac284bdcc6caec817d2e17a8 (stored 0%)\n",
      "  adding: home/xilinx/jupyter_notebooks/MyWork/.git/objects/64/ (stored 0%)\n",
      "  adding: home/xilinx/jupyter_notebooks/MyWork/.git/objects/64/8405e14541812ec492bea63a22b23f9cd2f1a8 (deflated 2%)\n",
      "  adding: home/xilinx/jupyter_notebooks/MyWork/.git/objects/ee/ (stored 0%)\n",
      "  adding: home/xilinx/jupyter_notebooks/MyWork/.git/objects/ee/ae070f3b85cc173ee5dd301630806e0d29b624 (stored 0%)\n",
      "  adding: home/xilinx/jupyter_notebooks/MyWork/.git/objects/d8/ (stored 0%)\n",
      "  adding: home/xilinx/jupyter_notebooks/MyWork/.git/objects/d8/9aac53f5dcb782bdd3c9526c77a32c2359d6e8 (stored 0%)\n",
      "  adding: home/xilinx/jupyter_notebooks/MyWork/.git/objects/83/ (stored 0%)\n",
      "  adding: home/xilinx/jupyter_notebooks/MyWork/.git/objects/83/77be2b5215a2be29df23bf1da07eb3626e6c6f (stored 0%)\n",
      "  adding: home/xilinx/jupyter_notebooks/MyWork/.git/objects/d5/ (stored 0%)\n",
      "  adding: home/xilinx/jupyter_notebooks/MyWork/.git/objects/d5/84c629f5445eecd2765ea110ea86a6724d610d (stored 0%)\n",
      "  adding: home/xilinx/jupyter_notebooks/MyWork/.git/objects/7d/ (stored 0%)\n",
      "  adding: home/xilinx/jupyter_notebooks/MyWork/.git/objects/7d/4d85b66d2ade71e3b5942b99a8dd55e0191569 (deflated 11%)\n",
      "  adding: home/xilinx/jupyter_notebooks/MyWork/.git/objects/35/ (stored 0%)\n",
      "  adding: home/xilinx/jupyter_notebooks/MyWork/.git/objects/35/8ff9f14b640be719829868f5ee624e81d4d6a7 (stored 0%)\n",
      "  adding: home/xilinx/jupyter_notebooks/MyWork/.git/objects/02/ (stored 0%)\n",
      "  adding: home/xilinx/jupyter_notebooks/MyWork/.git/objects/02/75d434d44f49390903da50dfa44d03a5683640 (stored 0%)\n",
      "  adding: home/xilinx/jupyter_notebooks/MyWork/.git/objects/97/ (stored 0%)\n",
      "  adding: home/xilinx/jupyter_notebooks/MyWork/.git/objects/97/bd75ed6aebfae11f3d7fbc238efa6450b77674 (stored 0%)\n",
      "  adding: home/xilinx/jupyter_notebooks/MyWork/.git/objects/23/ (stored 0%)\n",
      "  adding: home/xilinx/jupyter_notebooks/MyWork/.git/objects/23/c29655ac49ff9fb645d3d59d149441fa002ffa (stored 0%)\n",
      "  adding: home/xilinx/jupyter_notebooks/MyWork/.git/objects/9e/ (stored 0%)\n",
      "  adding: home/xilinx/jupyter_notebooks/MyWork/.git/objects/9e/6abd2808dc7c16283b8bc9b0340ed1eee03625 (stored 0%)\n",
      "  adding: home/xilinx/jupyter_notebooks/MyWork/.git/objects/17/ (stored 0%)\n",
      "  adding: home/xilinx/jupyter_notebooks/MyWork/.git/objects/17/f37d7f0a2f74032c7f609debbd46831692f2de (stored 0%)\n",
      "  adding: home/xilinx/jupyter_notebooks/MyWork/.git/objects/17/d42d5c7ef1311309be5b42fb363457e2083632 (stored 0%)\n",
      "  adding: home/xilinx/jupyter_notebooks/MyWork/.git/objects/43/ (stored 0%)\n",
      "  adding: home/xilinx/jupyter_notebooks/MyWork/.git/objects/43/ee415e8c369b9e24374f144eb772dcc14710c7 (stored 0%)\n",
      "  adding: home/xilinx/jupyter_notebooks/MyWork/.git/objects/11/ (stored 0%)\n",
      "  adding: home/xilinx/jupyter_notebooks/MyWork/.git/objects/11/7af7f1f49a1a46f3f93474bf1585035e1ba60e (stored 0%)\n",
      "  adding: home/xilinx/jupyter_notebooks/MyWork/.git/objects/a5/ (stored 0%)\n",
      "  adding: home/xilinx/jupyter_notebooks/MyWork/.git/objects/a5/9f8edb4098f2a014534feba804845ec155f0ef (stored 0%)\n",
      "  adding: home/xilinx/jupyter_notebooks/MyWork/.git/objects/info/ (stored 0%)\n",
      "  adding: home/xilinx/jupyter_notebooks/MyWork/.git/objects/aa/ (stored 0%)\n",
      "  adding: home/xilinx/jupyter_notebooks/MyWork/.git/objects/aa/28618dd75766e0ac7c2a6e96d5474b27132217 (stored 0%)\n",
      "  adding: home/xilinx/jupyter_notebooks/MyWork/.git/objects/c8/ (stored 0%)\n",
      "  adding: home/xilinx/jupyter_notebooks/MyWork/.git/objects/c8/feb7b941160a6c5750cd0c4025c9f46ad0ea1b (stored 0%)\n",
      "  adding: home/xilinx/jupyter_notebooks/MyWork/.git/objects/54/ (stored 0%)\n",
      "  adding: home/xilinx/jupyter_notebooks/MyWork/.git/objects/54/162e5eec2138b94f5b7bd5cc67297dce7ba9fa (stored 0%)\n",
      "  adding: home/xilinx/jupyter_notebooks/MyWork/.git/objects/41/ (stored 0%)\n",
      "  adding: home/xilinx/jupyter_notebooks/MyWork/.git/objects/41/182e2c920ecfbfb3507e0245e6c1d50cdd0479 (stored 0%)\n",
      "  adding: home/xilinx/jupyter_notebooks/MyWork/.git/objects/10/ (stored 0%)\n",
      "  adding: home/xilinx/jupyter_notebooks/MyWork/.git/objects/10/66c12afaed1c667087f3ee97f7180f607d0acb (stored 0%)\n",
      "  adding: home/xilinx/jupyter_notebooks/MyWork/.git/objects/40/ (stored 0%)\n",
      "  adding: home/xilinx/jupyter_notebooks/MyWork/.git/objects/40/50323454425eaecbb7a77d4452d2c40f5acc9b (stored 0%)\n",
      "  adding: home/xilinx/jupyter_notebooks/MyWork/.git/objects/4e/ (stored 0%)\n",
      "  adding: home/xilinx/jupyter_notebooks/MyWork/.git/objects/4e/ae38725bbe94ab014eefd3048e95ee08f3172a (stored 0%)\n",
      "  adding: home/xilinx/jupyter_notebooks/MyWork/.git/objects/pack/ (stored 0%)\n",
      "  adding: home/xilinx/jupyter_notebooks/MyWork/.git/objects/fe/ (stored 0%)\n",
      "  adding: home/xilinx/jupyter_notebooks/MyWork/.git/objects/fe/9afc146deb46d3814b1d52f4e47c510a285a1a (stored 0%)\n",
      "  adding: home/xilinx/jupyter_notebooks/MyWork/.git/objects/56/ (stored 0%)\n",
      "  adding: home/xilinx/jupyter_notebooks/MyWork/.git/objects/56/62648ec06a82fa75befe740d8db88f8c3e934b (stored 0%)\n",
      "  adding: home/xilinx/jupyter_notebooks/MyWork/.git/objects/ff/ (stored 0%)\n",
      "  adding: home/xilinx/jupyter_notebooks/MyWork/.git/objects/ff/cdc7d19aeb815b7b53d880a4ab96d8b0d650dd (stored 0%)\n",
      "  adding: home/xilinx/jupyter_notebooks/MyWork/.git/objects/ff/182a7b401d412593f20dfd99f8d10602e07bec (stored 0%)\n",
      "  adding: home/xilinx/jupyter_notebooks/MyWork/.git/config (deflated 26%)\n",
      "  adding: home/xilinx/jupyter_notebooks/MyWork/.git/info/ (stored 0%)\n",
      "  adding: home/xilinx/jupyter_notebooks/MyWork/.git/info/exclude (deflated 28%)\n",
      "  adding: home/xilinx/jupyter_notebooks/MyWork/.git/HEAD (stored 0%)\n",
      "  adding: home/xilinx/jupyter_notebooks/MyWork/.git/description (deflated 14%)\n",
      "  adding: home/xilinx/jupyter_notebooks/MyWork/out/ (stored 0%)\n",
      "  adding: home/xilinx/jupyter_notebooks/MyWork/out/test_bist_array_0_full_range_results.html (deflated 87%)\n",
      "  adding: home/xilinx/jupyter_notebooks/MyWork/out/test1_onchip_clk_results.html (deflated 88%)\n",
      "  adding: home/xilinx/jupyter_notebooks/MyWork/out/test1_results.html (deflated 89%)\n",
      "  adding: home/xilinx/jupyter_notebooks/MyWork/out/test2_results.html (deflated 87%)\n",
      "  adding: home/xilinx/jupyter_notebooks/MyWork/out/.ipynb_checkpo_results.txt (stored 0%)\n",
      "  adding: home/xilinx/jupyter_notebooks/MyWork/out/test3_results.html (deflated 88%)\n",
      "  adding: home/xilinx/jupyter_notebooks/MyWork/out/test_bist_halt_example_results.html (deflated 87%)\n",
      "  adding: home/xilinx/jupyter_notebooks/MyWork/out/.ipynb_checkpoints/ (stored 0%)\n",
      "  adding: home/xilinx/jupyter_notebooks/MyWork/out/.ipynb_checkpoints/test3_results-checkpoint.html (deflated 90%)\n",
      "  adding: home/xilinx/jupyter_notebooks/MyWork/out/.ipynb_checkpoints/test2_results-checkpoint.html (deflated 90%)\n",
      "  adding: home/xilinx/jupyter_notebooks/MyWork/out/.ipynb_checkpoints/test4_results-checkpoint.html (deflated 92%)\n",
      "  adding: home/xilinx/jupyter_notebooks/MyWork/out/.ipynb_checkpoints/test1_results-checkpoint.html (deflated 90%)\n",
      "  adding: home/xilinx/jupyter_notebooks/MyWork/out/t_results.html (deflated 14%)\n",
      "  adding: home/xilinx/jupyter_notebooks/MyWork/out/test_cmp_results.html (deflated 60%)\n",
      "  adding: home/xilinx/jupyter_notebooks/MyWork/out/test_bist_basic_results.html (deflated 87%)\n",
      "  adding: home/xilinx/jupyter_notebooks/MyWork/out/test4_results.html (deflated 92%)\n",
      "  adding: home/xilinx/jupyter_notebooks/MyWork/lab/ (stored 0%)\n",
      "  adding: home/xilinx/jupyter_notebooks/MyWork/lab/converter.ipynb (deflated 60%)\n",
      "  adding: home/xilinx/jupyter_notebooks/MyWork/lab/.ipynb_checkpoints/ (stored 0%)\n",
      "  adding: home/xilinx/jupyter_notebooks/MyWork/lab/.ipynb_checkpoints/test_main-checkpoint.ipynb (deflated 63%)\n",
      "  adding: home/xilinx/jupyter_notebooks/MyWork/lab/.ipynb_checkpoints/trial-checkpoint.html (deflated 45%)\n",
      "  adding: home/xilinx/jupyter_notebooks/MyWork/lab/.ipynb_checkpoints/converter-checkpoint.ipynb (deflated 60%)\n",
      "  adding: home/xilinx/jupyter_notebooks/MyWork/lab/test_main.ipynb (deflated 63%)\n",
      "  adding: home/xilinx/jupyter_notebooks/MyWork/lab/trial.html (deflated 49%)\n",
      "  adding: home/xilinx/jupyter_notebooks/MyWork/.ipynb_checkpoints/ (stored 0%)\n",
      "  adding: home/xilinx/jupyter_notebooks/MyWork/.ipynb_checkpoints/export_project-checkpoint.sh (deflated 28%)\n",
      "  adding: home/xilinx/jupyter_notebooks/MyWork/.ipynb_checkpoints/config-checkpoint.yaml (deflated 48%)\n",
      "  adding: home/xilinx/jupyter_notebooks/MyWork/.ipynb_checkpoints/qspi_test-checkpoint.ipynb (deflated 76%)\n",
      "  adding: home/xilinx/jupyter_notebooks/MyWork/.ipynb_checkpoints/style-checkpoint.css (deflated 49%)\n",
      "  adding: home/xilinx/jupyter_notebooks/MyWork/.ipynb_checkpoints/main-checkpoint.ipynb (deflated 83%)\n",
      "  adding: home/xilinx/jupyter_notebooks/MyWork/style.css (deflated 49%)\n",
      "  adding: home/xilinx/jupyter_notebooks/MyWork/main.ipynb (deflated 83%)\n",
      "  adding: home/xilinx/jupyter_notebooks/MyWork/qspi_test.ipynb (deflated 76%)\n",
      "  adding: home/xilinx/jupyter_notebooks/MyWork/data/ (stored 0%)\n",
      "  adding: home/xilinx/jupyter_notebooks/MyWork/data/test_cmp.txt (deflated 39%)\n",
      "  adding: home/xilinx/jupyter_notebooks/MyWork/data/test2.txt (deflated 66%)\n",
      "  adding: home/xilinx/jupyter_notebooks/MyWork/data/test1.txt (deflated 66%)\n",
      "  adding: home/xilinx/jupyter_notebooks/MyWork/data/test_bist_basic.txt (deflated 68%)\n",
      "  adding: home/xilinx/jupyter_notebooks/MyWork/data/test1_onchip_clk.txt (deflated 67%)\n",
      "  adding: home/xilinx/jupyter_notebooks/MyWork/data/test_bist_halt_example.txt (deflated 67%)\n",
      "  adding: home/xilinx/jupyter_notebooks/MyWork/data/.ipynb_checkpoints/ (stored 0%)\n",
      "  adding: home/xilinx/jupyter_notebooks/MyWork/data/.ipynb_checkpoints/test_cmp-checkpoint.txt (deflated 39%)\n",
      "  adding: home/xilinx/jupyter_notebooks/MyWork/data/.ipynb_checkpoints/test2-checkpoint.txt (deflated 66%)\n",
      "  adding: home/xilinx/jupyter_notebooks/MyWork/data/.ipynb_checkpoints/test4-checkpoint.txt (deflated 75%)\n",
      "  adding: home/xilinx/jupyter_notebooks/MyWork/data/.ipynb_checkpoints/test_bist_array_0_full_range-checkpoint.txt (deflated 68%)\n",
      "  adding: home/xilinx/jupyter_notebooks/MyWork/data/.ipynb_checkpoints/test1_onchip_clk-checkpoint.txt (deflated 67%)\n",
      "  adding: home/xilinx/jupyter_notebooks/MyWork/data/.ipynb_checkpoints/test_bist_basic-checkpoint.txt (deflated 68%)\n",
      "  adding: home/xilinx/jupyter_notebooks/MyWork/data/.ipynb_checkpoints/test_bist_halt_example-checkpoint.txt (deflated 67%)\n",
      "  adding: home/xilinx/jupyter_notebooks/MyWork/data/.ipynb_checkpoints/test1-checkpoint.txt (deflated 66%)\n",
      "  adding: home/xilinx/jupyter_notebooks/MyWork/data/.ipynb_checkpoints/test3-checkpoint.txt (deflated 68%)\n",
      "  adding: home/xilinx/jupyter_notebooks/MyWork/data/test3.txt (deflated 68%)\n",
      "  adding: home/xilinx/jupyter_notebooks/MyWork/data/test_bist_array_0_full_range.txt (deflated 68%)\n",
      "  adding: home/xilinx/jupyter_notebooks/MyWork/data/test4.txt (deflated 75%)\n",
      "Done! File saved as project_test_platform.zip\n"
     ]
    }
   ],
   "source": [
    "!bash export_project.sh"
   ]
  },
  {
   "cell_type": "code",
   "execution_count": null,
   "id": "057dc683-a283-45be-a7da-ad044825fb1f",
   "metadata": {},
   "outputs": [],
   "source": []
  }
 ],
 "metadata": {
  "kernelspec": {
   "display_name": "Python 3 (ipykernel)",
   "language": "python",
   "name": "python3"
  },
  "language_info": {
   "codemirror_mode": {
    "name": "ipython",
    "version": 3
   },
   "file_extension": ".py",
   "mimetype": "text/x-python",
   "name": "python",
   "nbconvert_exporter": "python",
   "pygments_lexer": "ipython3",
   "version": "3.10.4"
  },
  "toc-autonumbering": false
 },
 "nbformat": 4,
 "nbformat_minor": 5
}
