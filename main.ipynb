{
 "cells": [
  {
   "cell_type": "markdown",
   "id": "e1c7e421-18f6-4480-87ba-3775daa2aef0",
   "metadata": {},
   "source": [
    "To only run one time at the beginning of the test (unless you want to change the current overlay) :"
   ]
  },
  {
   "cell_type": "code",
   "execution_count": 9,
   "id": "2d5439f5",
   "metadata": {
    "tags": []
   },
   "outputs": [],
   "source": [
    "from pynq import Overlay\n",
    "ol = Overlay(\"overlay/test_platform_kairos.bit\")"
   ]
  },
  {
   "cell_type": "markdown",
   "id": "d0f9f4a1-8ce7-4821-abc7-c616ca2f4de4",
   "metadata": {},
   "source": [
    "To run only if you made change in the overlay :"
   ]
  },
  {
   "cell_type": "code",
   "execution_count": 10,
   "id": "fcaf040b-a580-48b6-8132-f7f25c4ad903",
   "metadata": {},
   "outputs": [],
   "source": [
    "ol.download()\n",
    "# ol?"
   ]
  },
  {
   "cell_type": "markdown",
   "id": "8d602c4b-2bf8-4dc2-818a-35d7a49fde93",
   "metadata": {},
   "source": [
    "We define our SPI hardware object : AxiQspi."
   ]
  },
  {
   "cell_type": "code",
   "execution_count": 11,
   "id": "615fc811-e2a5-4888-98c8-afabd4a9946f",
   "metadata": {},
   "outputs": [
    {
     "name": "stdout",
     "output_type": "stream",
     "text": [
      "<class 'pynq.mmio.MMIO'>\n"
     ]
    }
   ],
   "source": [
    "from pynq import MMIO\n",
    "\n",
    "SPI_regSpace = ol.ip_dict['axi_quad_spi_0']\n",
    "IP_BASE_ADDRESS = SPI_regSpace['phys_addr']\n",
    "IP_ADDRESS_RNGE = SPI_regSpace['addr_range']\n",
    "AxiQspi = MMIO(IP_BASE_ADDRESS, IP_ADDRESS_RNGE)\n",
    "print(type(AxiQspi))"
   ]
  },
  {
   "cell_type": "markdown",
   "id": "2edeae3d-cd34-437f-9c90-c3d63eea3179",
   "metadata": {},
   "source": [
    "Open the config file"
   ]
  },
  {
   "cell_type": "code",
   "execution_count": 12,
   "id": "025cf4dc-1c90-4785-a755-2acf8ae5edb4",
   "metadata": {},
   "outputs": [],
   "source": [
    "with open(\"style.css\",\"r\") as file:\n",
    "        css_file = file.read()\n",
    "# print(css_file)"
   ]
  },
  {
   "cell_type": "code",
   "execution_count": 13,
   "id": "515b7fb7-1897-49bb-b424-de43c7f6f3ae",
   "metadata": {},
   "outputs": [],
   "source": [
    "import yaml\n",
    "with open(\"config.yaml\",\"r\") as file:\n",
    "        config = yaml.safe_load(file)\n",
    "        # print(config)"
   ]
  },
  {
   "cell_type": "code",
   "execution_count": 6,
   "id": "4f143164-194c-48da-85b7-b504cedc4475",
   "metadata": {},
   "outputs": [],
   "source": [
    "import yaml\n",
    "with open(\"commands.yaml\",\"r\") as file:\n",
    "        cmd_dict = yaml.safe_load(file)\n",
    "        # print(config)"
   ]
  },
  {
   "cell_type": "code",
   "execution_count": 3,
   "id": "da8a612c-87d5-49ac-b882-289a691e59dd",
   "metadata": {},
   "outputs": [
    {
     "ename": "ModuleNotFoundError",
     "evalue": "No module named 'builder'",
     "output_type": "error",
     "traceback": [
      "\u001b[0;31m---------------------------------------------------------------------------\u001b[0m",
      "\u001b[0;31mModuleNotFoundError\u001b[0m                       Traceback (most recent call last)",
      "Input \u001b[0;32mIn [3]\u001b[0m, in \u001b[0;36m<cell line: 2>\u001b[0;34m()\u001b[0m\n\u001b[1;32m      1\u001b[0m \u001b[38;5;66;03m# %run nb/reports.ipynb\u001b[39;00m\n\u001b[0;32m----> 2\u001b[0m \u001b[38;5;28;01mfrom\u001b[39;00m \u001b[38;5;21;01mnb\u001b[39;00m \u001b[38;5;28;01mimport\u001b[39;00m \u001b[38;5;241m*\u001b[39m\n\u001b[1;32m      4\u001b[0m \u001b[38;5;66;03m# Config setup\u001b[39;00m\n\u001b[1;32m      5\u001b[0m activate_exceptions \u001b[38;5;241m=\u001b[39m config[\u001b[38;5;124m\"\u001b[39m\u001b[38;5;124mLAUNCH_CONFIG\u001b[39m\u001b[38;5;124m\"\u001b[39m][\u001b[38;5;124m\"\u001b[39m\u001b[38;5;124mactivate_exceptions\u001b[39m\u001b[38;5;124m\"\u001b[39m]\n",
      "File \u001b[0;32m/home/xilinx/jupyter_notebooks/test_platform_commands/nb/__init__.py:1\u001b[0m, in \u001b[0;36m<module>\u001b[0;34m\u001b[0m\n\u001b[0;32m----> 1\u001b[0m from .reports import *\n\u001b[1;32m      2\u001b[0m from .spi import *\n\u001b[1;32m      3\u001b[0m import formater as form\n",
      "File \u001b[0;32m/home/xilinx/jupyter_notebooks/test_platform_commands/nb/reports/__init__.py:1\u001b[0m, in \u001b[0;36m<module>\u001b[0;34m\u001b[0m\n\u001b[0;32m----> 1\u001b[0m \u001b[38;5;28;01mimport\u001b[39;00m \u001b[38;5;21;01mbuilder\u001b[39;00m \u001b[38;5;28;01mas\u001b[39;00m \u001b[38;5;21;01mbuilder\u001b[39;00m\n\u001b[1;32m      2\u001b[0m \u001b[38;5;28;01mimport\u001b[39;00m \u001b[38;5;21;01merror_msg\u001b[39;00m \u001b[38;5;28;01mas\u001b[39;00m \u001b[38;5;21;01merror_msg\u001b[39;00m\n\u001b[1;32m      3\u001b[0m \u001b[38;5;28;01mimport\u001b[39;00m \u001b[38;5;21;01mreports_pkg\u001b[39;00m \u001b[38;5;28;01mas\u001b[39;00m \u001b[38;5;21;01mreports_pkg\u001b[39;00m\n",
      "\u001b[0;31mModuleNotFoundError\u001b[0m: No module named 'builder'"
     ]
    }
   ],
   "source": [
    "# %run nb/reports.ipynb\n",
    "from nb import *\n",
    "\n",
    "# Config setup\n",
    "activate_exceptions = config[\"LAUNCH_CONFIG\"][\"activate_exceptions\"]\n",
    "max_while_iterations = config[\"LAUNCH_CONFIG\"][\"max_while_iterations\"]\n",
    "\n",
    "# Launch config : choose to run all tests (with exceptions) or run a single test : see config.yaml\n",
    "single_test_config = config[\"LAUNCH_CONFIG\"][\"single_test\"]\n",
    "all_test_config = config[\"LAUNCH_CONFIG\"][\"all_tests\"]\n",
    "if (single_test_config[\"activate\"] == all_test_config[\"activate\"]):\n",
    "    reports.test_config_error()\n",
    "\n",
    "# Result file config : choose the result file extension to be html or txt : see config.yaml\n",
    "activate_result_file_html = config[\"RESULT_FILE\"][\"html_config\"][\"activate\"]\n",
    "activate_result_file_txt = config[\"RESULT_FILE\"][\"txt_config\"][\"activate\"]\n",
    "activate_msg_prints = config[\"RESULT_FILE\"][\"print_msg\"][\"activate\"]"
   ]
  },
  {
   "cell_type": "raw",
   "id": "d66ab1b5-9ec7-4ab5-ac1c-a43197e2edee",
   "metadata": {},
   "source": [
    "Trying to run every testfiles from data folder :"
   ]
  },
  {
   "cell_type": "code",
   "execution_count": 1,
   "id": "149efd50-9810-4b53-a93f-04479419fda1",
   "metadata": {},
   "outputs": [
    {
     "ename": "NameError",
     "evalue": "name 'config' is not defined",
     "output_type": "error",
     "traceback": [
      "\u001b[0;31m---------------------------------------------------------------------------\u001b[0m",
      "\u001b[0;31mNameError\u001b[0m                                 Traceback (most recent call last)",
      "File \u001b[0;32m/tmp/ipykernel_19502/971105306.py:1\u001b[0m, in \u001b[0;36m<cell line: 1>\u001b[0;34m()\u001b[0m\n\u001b[0;32m----> 1\u001b[0m nb_bytes_per_token_cmd \u001b[38;5;241m=\u001b[39m \u001b[43mconfig\u001b[49m[\u001b[38;5;124m\"\u001b[39m\u001b[38;5;124mTEST_FILE\u001b[39m\u001b[38;5;124m\"\u001b[39m][\u001b[38;5;124m\"\u001b[39m\u001b[38;5;124mnb_bytes_per_token_cmd\u001b[39m\u001b[38;5;124m\"\u001b[39m]\n\u001b[1;32m      2\u001b[0m nb_bytes_per_token_addr \u001b[38;5;241m=\u001b[39m config[\u001b[38;5;124m\"\u001b[39m\u001b[38;5;124mTEST_FILE\u001b[39m\u001b[38;5;124m\"\u001b[39m][\u001b[38;5;124m\"\u001b[39m\u001b[38;5;124mnb_bytes_per_token_addr\u001b[39m\u001b[38;5;124m\"\u001b[39m]\n\u001b[1;32m      3\u001b[0m nb_bytes_per_token_data \u001b[38;5;241m=\u001b[39m config[\u001b[38;5;124m\"\u001b[39m\u001b[38;5;124mTEST_FILE\u001b[39m\u001b[38;5;124m\"\u001b[39m][\u001b[38;5;124m\"\u001b[39m\u001b[38;5;124mnb_bytes_per_token_data\u001b[39m\u001b[38;5;124m\"\u001b[39m]\n",
      "\u001b[0;31mNameError\u001b[0m: name 'config' is not defined"
     ]
    },
    {
     "ename": "NameError",
     "evalue": "name 'config' is not defined",
     "output_type": "error",
     "traceback": [
      "\u001b[0;31m---------------------------------------------------------------------------\u001b[0m",
      "\u001b[0;31mNameError\u001b[0m                                 Traceback (most recent call last)",
      "Input \u001b[0;32mIn [1]\u001b[0m, in \u001b[0;36m<cell line: 2>\u001b[0;34m()\u001b[0m\n\u001b[1;32m      1\u001b[0m get_ipython()\u001b[38;5;241m.\u001b[39mrun_line_magic(\u001b[38;5;124m'\u001b[39m\u001b[38;5;124mrun\u001b[39m\u001b[38;5;124m'\u001b[39m, \u001b[38;5;124m'\u001b[39m\u001b[38;5;124mnb/parser.ipynb\u001b[39m\u001b[38;5;124m'\u001b[39m)\n\u001b[0;32m----> 2\u001b[0m \u001b[43mget_ipython\u001b[49m\u001b[43m(\u001b[49m\u001b[43m)\u001b[49m\u001b[38;5;241;43m.\u001b[39;49m\u001b[43mrun_line_magic\u001b[49m\u001b[43m(\u001b[49m\u001b[38;5;124;43m'\u001b[39;49m\u001b[38;5;124;43mrun\u001b[39;49m\u001b[38;5;124;43m'\u001b[39;49m\u001b[43m,\u001b[49m\u001b[43m \u001b[49m\u001b[38;5;124;43m'\u001b[39;49m\u001b[38;5;124;43mnb/package.ipynb\u001b[39;49m\u001b[38;5;124;43m'\u001b[39;49m\u001b[43m)\u001b[49m\n\u001b[1;32m      3\u001b[0m get_ipython()\u001b[38;5;241m.\u001b[39mrun_line_magic(\u001b[38;5;124m'\u001b[39m\u001b[38;5;124mrun\u001b[39m\u001b[38;5;124m'\u001b[39m, \u001b[38;5;124m'\u001b[39m\u001b[38;5;124mnb/functions.ipynb\u001b[39m\u001b[38;5;124m'\u001b[39m)\n\u001b[1;32m      4\u001b[0m get_ipython()\u001b[38;5;241m.\u001b[39mrun_line_magic(\u001b[38;5;124m'\u001b[39m\u001b[38;5;124mrun\u001b[39m\u001b[38;5;124m'\u001b[39m, \u001b[38;5;124m'\u001b[39m\u001b[38;5;124mnb/formater.ipynb\u001b[39m\u001b[38;5;124m'\u001b[39m)\n",
      "File \u001b[0;32m/usr/local/share/pynq-venv/lib/python3.10/site-packages/IPython/core/interactiveshell.py:2305\u001b[0m, in \u001b[0;36mInteractiveShell.run_line_magic\u001b[0;34m(self, magic_name, line, _stack_depth)\u001b[0m\n\u001b[1;32m   2303\u001b[0m     kwargs[\u001b[38;5;124m'\u001b[39m\u001b[38;5;124mlocal_ns\u001b[39m\u001b[38;5;124m'\u001b[39m] \u001b[38;5;241m=\u001b[39m \u001b[38;5;28mself\u001b[39m\u001b[38;5;241m.\u001b[39mget_local_scope(stack_depth)\n\u001b[1;32m   2304\u001b[0m \u001b[38;5;28;01mwith\u001b[39;00m \u001b[38;5;28mself\u001b[39m\u001b[38;5;241m.\u001b[39mbuiltin_trap:\n\u001b[0;32m-> 2305\u001b[0m     result \u001b[38;5;241m=\u001b[39m \u001b[43mfn\u001b[49m\u001b[43m(\u001b[49m\u001b[38;5;241;43m*\u001b[39;49m\u001b[43margs\u001b[49m\u001b[43m,\u001b[49m\u001b[43m \u001b[49m\u001b[38;5;241;43m*\u001b[39;49m\u001b[38;5;241;43m*\u001b[39;49m\u001b[43mkwargs\u001b[49m\u001b[43m)\u001b[49m\n\u001b[1;32m   2306\u001b[0m \u001b[38;5;28;01mreturn\u001b[39;00m result\n",
      "File \u001b[0;32m/usr/local/share/pynq-venv/lib/python3.10/site-packages/IPython/core/magics/execution.py:717\u001b[0m, in \u001b[0;36mExecutionMagics.run\u001b[0;34m(self, parameter_s, runner, file_finder)\u001b[0m\n\u001b[1;32m    715\u001b[0m     \u001b[38;5;28;01mwith\u001b[39;00m preserve_keys(\u001b[38;5;28mself\u001b[39m\u001b[38;5;241m.\u001b[39mshell\u001b[38;5;241m.\u001b[39muser_ns, \u001b[38;5;124m'\u001b[39m\u001b[38;5;124m__file__\u001b[39m\u001b[38;5;124m'\u001b[39m):\n\u001b[1;32m    716\u001b[0m         \u001b[38;5;28mself\u001b[39m\u001b[38;5;241m.\u001b[39mshell\u001b[38;5;241m.\u001b[39muser_ns[\u001b[38;5;124m'\u001b[39m\u001b[38;5;124m__file__\u001b[39m\u001b[38;5;124m'\u001b[39m] \u001b[38;5;241m=\u001b[39m filename\n\u001b[0;32m--> 717\u001b[0m         \u001b[38;5;28;43mself\u001b[39;49m\u001b[38;5;241;43m.\u001b[39;49m\u001b[43mshell\u001b[49m\u001b[38;5;241;43m.\u001b[39;49m\u001b[43msafe_execfile_ipy\u001b[49m\u001b[43m(\u001b[49m\u001b[43mfilename\u001b[49m\u001b[43m,\u001b[49m\u001b[43m \u001b[49m\u001b[43mraise_exceptions\u001b[49m\u001b[38;5;241;43m=\u001b[39;49m\u001b[38;5;28;43;01mTrue\u001b[39;49;00m\u001b[43m)\u001b[49m\n\u001b[1;32m    718\u001b[0m     \u001b[38;5;28;01mreturn\u001b[39;00m\n\u001b[1;32m    720\u001b[0m \u001b[38;5;66;03m# Control the response to exit() calls made by the script being run\u001b[39;00m\n",
      "File \u001b[0;32m/usr/local/share/pynq-venv/lib/python3.10/site-packages/IPython/core/interactiveshell.py:2811\u001b[0m, in \u001b[0;36mInteractiveShell.safe_execfile_ipy\u001b[0;34m(self, fname, shell_futures, raise_exceptions)\u001b[0m\n\u001b[1;32m   2809\u001b[0m result \u001b[38;5;241m=\u001b[39m \u001b[38;5;28mself\u001b[39m\u001b[38;5;241m.\u001b[39mrun_cell(cell, silent\u001b[38;5;241m=\u001b[39m\u001b[38;5;28;01mTrue\u001b[39;00m, shell_futures\u001b[38;5;241m=\u001b[39mshell_futures)\n\u001b[1;32m   2810\u001b[0m \u001b[38;5;28;01mif\u001b[39;00m raise_exceptions:\n\u001b[0;32m-> 2811\u001b[0m     \u001b[43mresult\u001b[49m\u001b[38;5;241;43m.\u001b[39;49m\u001b[43mraise_error\u001b[49m\u001b[43m(\u001b[49m\u001b[43m)\u001b[49m\n\u001b[1;32m   2812\u001b[0m \u001b[38;5;28;01melif\u001b[39;00m \u001b[38;5;129;01mnot\u001b[39;00m result\u001b[38;5;241m.\u001b[39msuccess:\n\u001b[1;32m   2813\u001b[0m     \u001b[38;5;28;01mbreak\u001b[39;00m\n",
      "File \u001b[0;32m/usr/local/share/pynq-venv/lib/python3.10/site-packages/IPython/core/interactiveshell.py:251\u001b[0m, in \u001b[0;36mExecutionResult.raise_error\u001b[0;34m(self)\u001b[0m\n\u001b[1;32m    249\u001b[0m     \u001b[38;5;28;01mraise\u001b[39;00m \u001b[38;5;28mself\u001b[39m\u001b[38;5;241m.\u001b[39merror_before_exec\n\u001b[1;32m    250\u001b[0m \u001b[38;5;28;01mif\u001b[39;00m \u001b[38;5;28mself\u001b[39m\u001b[38;5;241m.\u001b[39merror_in_exec \u001b[38;5;129;01mis\u001b[39;00m \u001b[38;5;129;01mnot\u001b[39;00m \u001b[38;5;28;01mNone\u001b[39;00m:\n\u001b[0;32m--> 251\u001b[0m     \u001b[38;5;28;01mraise\u001b[39;00m \u001b[38;5;28mself\u001b[39m\u001b[38;5;241m.\u001b[39merror_in_exec\n",
      "    \u001b[0;31m[... skipping hidden 1 frame]\u001b[0m\n",
      "File \u001b[0;32m/tmp/ipykernel_19502/971105306.py:1\u001b[0m, in \u001b[0;36m<cell line: 1>\u001b[0;34m()\u001b[0m\n\u001b[0;32m----> 1\u001b[0m nb_bytes_per_token_cmd \u001b[38;5;241m=\u001b[39m \u001b[43mconfig\u001b[49m[\u001b[38;5;124m\"\u001b[39m\u001b[38;5;124mTEST_FILE\u001b[39m\u001b[38;5;124m\"\u001b[39m][\u001b[38;5;124m\"\u001b[39m\u001b[38;5;124mnb_bytes_per_token_cmd\u001b[39m\u001b[38;5;124m\"\u001b[39m]\n\u001b[1;32m      2\u001b[0m nb_bytes_per_token_addr \u001b[38;5;241m=\u001b[39m config[\u001b[38;5;124m\"\u001b[39m\u001b[38;5;124mTEST_FILE\u001b[39m\u001b[38;5;124m\"\u001b[39m][\u001b[38;5;124m\"\u001b[39m\u001b[38;5;124mnb_bytes_per_token_addr\u001b[39m\u001b[38;5;124m\"\u001b[39m]\n\u001b[1;32m      3\u001b[0m nb_bytes_per_token_data \u001b[38;5;241m=\u001b[39m config[\u001b[38;5;124m\"\u001b[39m\u001b[38;5;124mTEST_FILE\u001b[39m\u001b[38;5;124m\"\u001b[39m][\u001b[38;5;124m\"\u001b[39m\u001b[38;5;124mnb_bytes_per_token_data\u001b[39m\u001b[38;5;124m\"\u001b[39m]\n",
      "\u001b[0;31mNameError\u001b[0m: name 'config' is not defined"
     ]
    }
   ],
   "source": [
    "# %run nb/parser.ipynb\n",
    "# %run nb/package.ipynb\n",
    "# %run nb/functions.ipynb\n",
    "# %run nb/formater.ipynb\n",
    "# %run nb/spi/spi_driver.ipynb\n",
    "# %run nb/spi/spi_pkg.ipynb\n",
    "# %run nb/reports.ipynb\n",
    "# %run nb/translator.ipynb\n",
    "\n",
    "from \n",
    "        \n",
    "\n",
    "import os \n",
    "\n",
    "cnfg_master_spi(AxiQspi, clk_phase=0, clk_pol=0)\n",
    "\n",
    "# ALL tests config :\n",
    "if (all_test_config[\"activate\"]) :\n",
    "    all_test_files = os.listdir(\"./data\")\n",
    "    ignored_test_files = all_test_config['ignored_test_files']\n",
    "    list_test_files = [f for f in all_test_files if f not in ignored_test_files]\n",
    "    for test_file in list_test_files:\n",
    "        test_file_name = test_file[:-4] # remove the txt extension\n",
    "        test_file_path = 'data/' + test_file_name + '.txt'\n",
    "        print(f\"Currently sending test data from {test_file_name + '.txt'} \")\n",
    "        \n",
    "        if (activate_result_file_html):\n",
    "            result_file_html = init_html_result_file(test_file_name, test_file_path, css_file)\n",
    "\n",
    "        if (activate_result_file_txt):\n",
    "            result_file_txt = init_txt_result_file(test_file_name, test_file_path)\n",
    "        \n",
    "        last_rd_data = [] # keep in memory the last read data for cmp commands\n",
    "        with open(test_file_path,\"r\") as test_file_opened:\n",
    "            parsed_file = run_parse_loop(test_file_opened, result_file_html, result_file_txt)\n",
    "            number_cmd_test_file = len(parsed_file)\n",
    "            for indice_command_from_test_file in range(1,number_cmd_test_file+1):\n",
    "                parsed_line = parsed_file[indice_command_from_test_file]\n",
    "                last_rd_data = command_disjunction(AxiQspi, result_file_html, result_file_txt, indice_command_from_test_file, parsed_line, last_rd_data)\n",
    "                \n",
    "        if (activate_result_file_html):\n",
    "            end_html_result_file()\n",
    "\n",
    "        if (activate_result_file_txt):\n",
    "            end_txt_result_file()\n",
    "                \n",
    "        print(f\"Finished sending test data from {test_file + '.txt'} \")\n",
    "     \n",
    "    \n",
    "    \n",
    "# SINGLE test config :\n",
    "if (single_test_config[\"activate\"]) :\n",
    "    test_file_name = single_test_config['test_file'] \n",
    "    test_file_path = 'data/' + test_file_name + '.txt'\n",
    "    print(f\"Currently sending test data from {test_file_name + '.txt'} \")\n",
    "\n",
    "    if (activate_result_file_html):\n",
    "        result_file_html = init_html_result_file(test_file_name, test_file_path, css_file)\n",
    "\n",
    "    if (activate_result_file_txt):\n",
    "        result_file_txt = init_txt_result_file(test_file_name, test_file_path)\n",
    "    \n",
    "    last_rd_data = [] # keep in memory th  e last read data for cmp commands\n",
    "    with open(test_file_path,\"r\") as test_file_opened: \n",
    "        parsed_file = run_parse_loop(test_file_opened, result_file_html, result_file_txt)\n",
    "        number_cmd_test_file = len(parsed_file)\n",
    "        for indice_command_from_test_file in range(1,number_cmd_test_file+1):\n",
    "            parsed_line = parsed_file[indice_command_from_test_file]\n",
    "            last_rd_data = command_disjunction(AxiQspi, result_file_html, result_file_txt, indice_command_from_test_file, parsed_line, last_rd_data)\n",
    "            \n",
    "    if (activate_result_file_html):\n",
    "        end_html_result_file()\n",
    "\n",
    "    if (activate_result_file_txt):\n",
    "        end_txt_result_file()\n",
    "            \n",
    "    print(f\"Finished sending test data from {test_file_name + '.txt'} \")\n",
    "    "
   ]
  },
  {
   "cell_type": "code",
   "execution_count": null,
   "id": "d3b1d59c-9242-44c2-a4d4-a940aec988a0",
   "metadata": {},
   "outputs": [],
   "source": [
    "# Show clocks frequency\n",
    "# from pynq import Clocks\n",
    "# print(f'FCLK0: {Clocks.fclk0_mhz:.6f}MHz')\n",
    "# print(f'FCLK1: {Clocks.fclk1_mhz:.6f}MHz')"
   ]
  },
  {
   "cell_type": "code",
   "execution_count": null,
   "id": "a4b9b4f2-a7e8-4be7-88fb-22de08d0ff72",
   "metadata": {},
   "outputs": [],
   "source": []
  }
 ],
 "metadata": {
  "kernelspec": {
   "display_name": "Python 3 (ipykernel)",
   "language": "python",
   "name": "python3"
  },
  "language_info": {
   "codemirror_mode": {
    "name": "ipython",
    "version": 3
   },
   "file_extension": ".py",
   "mimetype": "text/x-python",
   "name": "python",
   "nbconvert_exporter": "python",
   "pygments_lexer": "ipython3",
   "version": "3.10.4"
  },
  "toc-autonumbering": false
 },
 "nbformat": 4,
 "nbformat_minor": 5
}
