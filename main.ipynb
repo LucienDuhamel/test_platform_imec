{
 "cells": [
  {
   "cell_type": "markdown",
   "id": "e1c7e421-18f6-4480-87ba-3775daa2aef0",
   "metadata": {},
   "source": [
    "To only run one time at the beginning of the test (unless you want to change the current overlay) :"
   ]
  },
  {
   "cell_type": "code",
   "execution_count": 1,
   "id": "2d5439f5",
   "metadata": {
    "tags": []
   },
   "outputs": [
    {
     "data": {
      "application/javascript": "\ntry {\nrequire(['notebook/js/codecell'], function(codecell) {\n  codecell.CodeCell.options_default.highlight_modes[\n      'magic_text/x-csrc'] = {'reg':[/^%%microblaze/]};\n  Jupyter.notebook.events.one('kernel_ready.Kernel', function(){\n      Jupyter.notebook.get_cells().map(function(cell){\n          if (cell.cell_type == 'code'){ cell.auto_highlight(); } }) ;\n  });\n});\n} catch (e) {};\n"
     },
     "metadata": {},
     "output_type": "display_data"
    },
    {
     "data": {
      "application/javascript": "\ntry {\nrequire(['notebook/js/codecell'], function(codecell) {\n  codecell.CodeCell.options_default.highlight_modes[\n      'magic_text/x-csrc'] = {'reg':[/^%%pybind11/]};\n  Jupyter.notebook.events.one('kernel_ready.Kernel', function(){\n      Jupyter.notebook.get_cells().map(function(cell){\n          if (cell.cell_type == 'code'){ cell.auto_highlight(); } }) ;\n  });\n});\n} catch (e) {};\n"
     },
     "metadata": {},
     "output_type": "display_data"
    }
   ],
   "source": [
    "from pynq import Overlay\n",
    "ol = Overlay(\"overlay/test_platform_kairos.bit\")"
   ]
  },
  {
   "cell_type": "markdown",
   "id": "d0f9f4a1-8ce7-4821-abc7-c616ca2f4de4",
   "metadata": {},
   "source": [
    "To run only if you made change in the overlay :"
   ]
  },
  {
   "cell_type": "code",
   "execution_count": 2,
   "id": "fcaf040b-a580-48b6-8132-f7f25c4ad903",
   "metadata": {},
   "outputs": [],
   "source": [
    "ol.download()\n",
    "# ol?"
   ]
  },
  {
   "cell_type": "markdown",
   "id": "8d602c4b-2bf8-4dc2-818a-35d7a49fde93",
   "metadata": {},
   "source": [
    "We define our SPI hardware object : AxiQspi."
   ]
  },
  {
   "cell_type": "code",
   "execution_count": 3,
   "id": "615fc811-e2a5-4888-98c8-afabd4a9946f",
   "metadata": {},
   "outputs": [],
   "source": [
    "from pynq import MMIO\n",
    "\n",
    "SPI_regSpace = ol.ip_dict['axi_quad_spi_0']\n",
    "IP_BASE_ADDRESS = SPI_regSpace['phys_addr']\n",
    "IP_ADDRESS_RNGE = SPI_regSpace['addr_range']\n",
    "AxiQspi = MMIO(IP_BASE_ADDRESS, IP_ADDRESS_RNGE)"
   ]
  },
  {
   "cell_type": "code",
   "execution_count": 4,
   "id": "60b4faa5",
   "metadata": {},
   "outputs": [],
   "source": [
    "with open(\"style.css\",\"r\") as file:\n",
    "        css_file = file.read()"
   ]
  },
  {
   "cell_type": "markdown",
   "id": "c931361d-9806-4a22-88d5-b51fb26e6b8d",
   "metadata": {},
   "source": [
    "Importing some libraries to launch tests"
   ]
  },
  {
   "cell_type": "code",
   "execution_count": null,
   "id": "f84ed0ee-9242-477a-ac49-5a5bc49ef6a9",
   "metadata": {},
   "outputs": [],
   "source": [
    "import os\n",
    "import package as pkg\n",
    "\n",
    "from nb import parser, translator\n",
    "import nb.spi as spi\n",
    "from nb.reports import builder_html, builder_txt\n",
    "from nb.reports.content.error_msg import test_config_error        "
   ]
  },
  {
   "cell_type": "markdown",
   "id": "67d953dc-bfd0-4cb3-b859-ae52dda7f8c3",
   "metadata": {},
   "source": [
    "Tests if the config is correct"
   ]
  },
  {
   "cell_type": "code",
   "execution_count": 6,
   "id": "452db46e-1931-4b2a-9248-211f58e9fdf3",
   "metadata": {},
   "outputs": [],
   "source": [
    "if (pkg.single_test_config[\"activate\"] == pkg.all_test_config[\"activate\"]):\n",
    "    test_config_error()"
   ]
  },
  {
   "cell_type": "markdown",
   "id": "2edeae3d-cd34-437f-9c90-c3d63eea3179",
   "metadata": {},
   "source": [
    "Open the config file"
   ]
  },
  {
   "cell_type": "raw",
   "id": "d66ab1b5-9ec7-4ab5-ac1c-a43197e2edee",
   "metadata": {},
   "source": [
    "Trying to run every testfiles from data folder :"
   ]
  },
  {
   "cell_type": "code",
   "execution_count": null,
   "id": "149efd50-9810-4b53-a93f-04479419fda1",
   "metadata": {},
   "outputs": [
    {
     "name": "stdout",
     "output_type": "stream",
     "text": [
      "Configure device\n",
      "Currently sending test data from my_test.txt \n",
      " REGWR 404 FF 01   \n",
      " \n",
      "REGWR (11) : B0 04 04 FF 00 00 00 01 00 00 00  \n",
      " \n",
      "Command # 1: Finished Writing  \n",
      "\n",
      " REGWR 404 FF 03   \n",
      " \n",
      "REGWR (11) : B0 04 04 FF 00 00 00 03 00 00 00  \n",
      " \n",
      "Command # 2: Finished Writing  \n",
      "\n",
      " REGWR 404 FF 0F   \n",
      " \n",
      "REGWR (11) : B0 04 04 FF 00 00 00 0F 00 00 00  \n",
      " \n",
      "Command # 3: Finished Writing  \n",
      "\n",
      " REGWR 0 654321FF CBA9871F   \n",
      " \n",
      "REGWR (11) : B0 00 00 FF 21 43 65 1F 87 A9 CB  \n",
      " \n",
      "Command # 4: Finished Writing  \n",
      "\n",
      " REGRD 0   \n",
      " \n",
      "REGRD (3) : A0 00 00  \n",
      " \n",
      "Command # 5: Finished Reading; read value = 0000000F   \n",
      "\n",
      " REGCMP 0000000F 0000000F   \n",
      " \n",
      "Comparison of read data and reference data \n",
      "\n",
      " **** Command #%4d: Last Reg read value (masked) = 0F\n",
      "    is equal to compared value =      0F **** \n",
      " \n",
      "The compared data are the same : \u001b[37m\u001b[42mSUCCESSFUL :\u001b[0m\n",
      "        the ref data is : 0000000F  \n",
      "        the read byte is : 0000000F  \n",
      " \n",
      "\n",
      " REGWR 0 0000000F 00000000   \n",
      " \n",
      "REGWR (11) : B0 00 00 0F 00 00 00 00 00 00 00  \n",
      " \n",
      "Command # 7: Finished Writing  \n",
      "\n",
      " REGWR 20 FFFFFFFF 12345678   \n",
      " \n",
      "REGWR (11) : B0 20 00 FF FF FF FF 78 56 34 12  \n",
      " \n",
      "Command # 8: Finished Writing  \n",
      "\n",
      " REGRD 20   \n",
      " \n",
      "REGRD (3) : A0 20 00  \n",
      " \n",
      "Command # 9: Finished Reading; read value = 12345678   \n",
      "\n",
      " REGCMP FFFFFFFF 12345678   \n",
      " \n",
      "Comparison of read data and reference data \n",
      "\n",
      " **** Command #%4d: Last Reg read value (masked) = 12\n",
      "    is equal to compared value =      12 **** \n",
      " \n",
      " **** Command #%4d: Last Reg read value (masked) = 34\n",
      "    is equal to compared value =      34 **** \n",
      " \n",
      " **** Command #%4d: Last Reg read value (masked) = 56\n",
      "    is equal to compared value =      56 **** \n",
      " \n",
      " **** Command #%4d: Last Reg read value (masked) = 78\n",
      "    is equal to compared value =      78 **** \n",
      " \n",
      "The compared data are the same : \u001b[37m\u001b[42mSUCCESSFUL :\u001b[0m\n",
      "        the ref data is : 12345678  \n",
      "        the read byte is : 12345678  \n",
      " \n",
      "\n",
      "Finished sending test data from my_test.txt \n"
     ]
    }
   ],
   "source": [
    "spi.cnfg_master_spi(AxiQspi, clk_phase=0, clk_pol=0)\n",
    "\n",
    "# ALL tests config :\n",
    "if (pkg.all_test_config[\"activate\"]) :\n",
    "    all_test_files = os.listdir(\"./data\")\n",
    "    ignored_test_files = pkg.all_test_config['ignored_test_files']\n",
    "    list_test_files = [f for f in all_test_files if f not in ignored_test_files]\n",
    "    for test_file in list_test_files:\n",
    "        test_file_name = test_file[:-4] # remove the txt extension\n",
    "        test_file_path = 'data/' + test_file_name + '.txt'\n",
    "        print(f\"Currently sending test data from {test_file_name + '.txt'} \")\n",
    "        \n",
    "        if (pkg.activate_result_file_html):\n",
    "            result_file_html = builder_html.init_html_result_file(test_file_name, test_file_path, css_file)\n",
    "\n",
    "        if (pkg.activate_result_file_txt):\n",
    "            result_file_txt = builder_txt.init_txt_result_file(test_file_name)\n",
    "        \n",
    "        last_rd_data = [] # keep in memory the last read data for cmp commands\n",
    "        with open(test_file_path,\"r\") as test_file_opened:\n",
    "            parsed_file = parser.parse_file(test_file_opened, result_file_html, result_file_txt)\n",
    "            number_cmd_test_file = len(parsed_file)\n",
    "            for indice_command_from_test_file in range(1,number_cmd_test_file+1):\n",
    "                parsed_line = parsed_file[indice_command_from_test_file]\n",
    "                last_rd_data = translator.command_disjunction(AxiQspi, result_file_html, result_file_txt, indice_command_from_test_file, parsed_line, last_rd_data)\n",
    "                \n",
    "        if (pkg.activate_result_file_html):\n",
    "            builder_html.end_html_result_file(result_file_html)\n",
    "\n",
    "        if (pkg.activate_result_file_txt):\n",
    "            builder_txt.end_txt_result_file(result_file_txt)\n",
    "                \n",
    "        print(f\"Finished sending test data from {test_file + '.txt'} \")\n",
    "     \n",
    "    \n",
    "    \n",
    "# SINGLE test config :\n",
    "if (pkg.single_test_config[\"activate\"]) :\n",
    "    test_file_name = pkg.single_test_config['test_file'] \n",
    "    test_file_path = 'data/' + test_file_name + '.txt'\n",
    "    print(f\"Currently sending test data from {test_file_name + '.txt'} \")\n",
    "\n",
    "    if (pkg.activate_result_file_html):\n",
    "        result_file_html = builder_html.init_html_result_file(test_file_name, test_file_path, css_file)\n",
    "\n",
    "    if (pkg.activate_result_file_txt):\n",
    "        result_file_txt = builder_txt.init_txt_result_file(test_file_name)\n",
    "    \n",
    "    last_rd_data = [] # keep in memory th  e last read data for cmp commands\n",
    "    with open(test_file_path,\"r\") as test_file_opened: \n",
    "        parsed_file = parser.parse_file(test_file_opened, result_file_html, result_file_txt)\n",
    "        number_cmd_test_file = len(parsed_file)\n",
    "        for indice_command_from_test_file in range(1,number_cmd_test_file+1):\n",
    "            parsed_line = parsed_file[indice_command_from_test_file]\n",
    "            last_rd_data = translator.command_disjunction(AxiQspi, result_file_html, result_file_txt, indice_command_from_test_file, parsed_line, last_rd_data)\n",
    "            \n",
    "    if (pkg.activate_result_file_html):\n",
    "        builder_html.end_html_result_file(result_file_html)\n",
    "\n",
    "    if (pkg.activate_result_file_txt):\n",
    "        builder_txt.end_txt_result_file(result_file_txt)\n",
    "            \n",
    "    print(f\"Finished sending test data from {test_file_name + '.txt'} \")\n",
    "    "
   ]
  },
  {
   "cell_type": "code",
   "execution_count": 8,
   "id": "d3b1d59c-9242-44c2-a4d4-a940aec988a0",
   "metadata": {},
   "outputs": [],
   "source": [
    "# Show clocks frequency\n",
    "# from pynq import Clocks\n",
    "# print(f'FCLK0: {Clocks.fclk0_mhz:.6f}MHz')\n",
    "# print(f'FCLK1: {Clocks.fclk1_mhz:.6f}MHz')"
   ]
  },
  {
   "cell_type": "code",
   "execution_count": null,
   "id": "a4b9b4f2-a7e8-4be7-88fb-22de08d0ff72",
   "metadata": {},
   "outputs": [],
   "source": []
  }
 ],
 "metadata": {
  "kernelspec": {
   "display_name": "Python 3 (ipykernel)",
   "language": "python",
   "name": "python3"
  },
  "language_info": {
   "codemirror_mode": {
    "name": "ipython",
    "version": 3
   },
   "file_extension": ".py",
   "mimetype": "text/x-python",
   "name": "python",
   "nbconvert_exporter": "python",
   "pygments_lexer": "ipython3",
   "version": "3.10.4"
  },
  "toc-autonumbering": false
 },
 "nbformat": 4,
 "nbformat_minor": 5
}
