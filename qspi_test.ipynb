{
 "cells": [
  {
   "cell_type": "markdown",
   "id": "e1c7e421-18f6-4480-87ba-3775daa2aef0",
   "metadata": {},
   "source": [
    "To only run one time at the beginning of the test (unless you want to change the current overlay) :"
   ]
  },
  {
   "cell_type": "code",
   "execution_count": 1,
   "id": "2d5439f5",
   "metadata": {
    "tags": []
   },
   "outputs": [
    {
     "data": {
      "application/javascript": [
       "\n",
       "try {\n",
       "require(['notebook/js/codecell'], function(codecell) {\n",
       "  codecell.CodeCell.options_default.highlight_modes[\n",
       "      'magic_text/x-csrc'] = {'reg':[/^%%microblaze/]};\n",
       "  Jupyter.notebook.events.one('kernel_ready.Kernel', function(){\n",
       "      Jupyter.notebook.get_cells().map(function(cell){\n",
       "          if (cell.cell_type == 'code'){ cell.auto_highlight(); } }) ;\n",
       "  });\n",
       "});\n",
       "} catch (e) {};\n"
      ]
     },
     "metadata": {},
     "output_type": "display_data"
    },
    {
     "data": {
      "application/javascript": [
       "\n",
       "try {\n",
       "require(['notebook/js/codecell'], function(codecell) {\n",
       "  codecell.CodeCell.options_default.highlight_modes[\n",
       "      'magic_text/x-csrc'] = {'reg':[/^%%pybind11/]};\n",
       "  Jupyter.notebook.events.one('kernel_ready.Kernel', function(){\n",
       "      Jupyter.notebook.get_cells().map(function(cell){\n",
       "          if (cell.cell_type == 'code'){ cell.auto_highlight(); } }) ;\n",
       "  });\n",
       "});\n",
       "} catch (e) {};\n"
      ]
     },
     "metadata": {},
     "output_type": "display_data"
    }
   ],
   "source": [
    "from pynq import Overlay\n",
    "ol = Overlay(\"/home/xilinx/pynq/overlays/qspi/design_qspi.bit\")"
   ]
  },
  {
   "cell_type": "markdown",
   "id": "d0f9f4a1-8ce7-4821-abc7-c616ca2f4de4",
   "metadata": {},
   "source": [
    "To run only if you made change in the overlay :"
   ]
  },
  {
   "cell_type": "code",
   "execution_count": 2,
   "id": "fcaf040b-a580-48b6-8132-f7f25c4ad903",
   "metadata": {},
   "outputs": [],
   "source": [
    "ol.download()\n",
    "# ol?"
   ]
  },
  {
   "cell_type": "markdown",
   "id": "925dab2c-1e2e-455a-91f3-7800a520a621",
   "metadata": {},
   "source": [
    "Real test code begins : "
   ]
  },
  {
   "cell_type": "code",
   "execution_count": 3,
   "id": "81c724d2-8395-4ce1-8d5d-ade622866c92",
   "metadata": {},
   "outputs": [],
   "source": [
    "from pynq import MMIO\n",
    "\n",
    "SPI_regSpace = ol.ip_dict['axi_quad_spi_0']\n",
    "IP_BASE_ADDRESS = SPI_regSpace['phys_addr']\n",
    "IP_ADDRESS_RNGE = SPI_regSpace['addr_range']\n",
    "AxiQspi = MMIO(IP_BASE_ADDRESS, IP_ADDRESS_RNGE)"
   ]
  },
  {
   "cell_type": "code",
   "execution_count": 4,
   "id": "eeefbd8b",
   "metadata": {},
   "outputs": [],
   "source": [
    "XSP_DGIER_OFFSET  = 0x1C\n",
    "XSP_IISR_OFFSET   = 0x20\n",
    "XSP_IIER_OFFSET   = 0x28\n",
    "XSP_SRR_OFFSET    = 0x40  # Software reset register\n",
    "XSP_CR_OFFSET     = 0x60  # SPI control register\n",
    "XSP_SR_OFFSET     = 0x64  # SPI status register\n",
    "XSP_DTR_OFFSET    = 0x68  # SPI data transmit register. A singleregister or a FIFO\n",
    "XSP_DRR_OFFSET    = 0x6C  # SPI data receive register. A singleregister or a FIFO\n",
    "XSP_SSR_OFFSET    = 0x70  # SPI Slave select register\n",
    "XSP_TFO_OFFSET    = 0x74  # Transmit FIFO occupancy register\n",
    "XSP_RFO_OFFSET    = 0x78  # Receive FIFO occupancy register\n",
    "XSP_REGISTERS     = [0x40, 0x60, 0x64, 0x68, 0x6c, 0x70, 0x74, 0x78, 0x1c, 0x20, 0x28]\n",
    "\n",
    "XSP_SRR_RESET_MASK         = 0x0A\n",
    "XSP_SR_TX_EMPTY_MASK       = 0x00000004\n",
    "XSP_SR_TX_FULL_MASK        = 0x00000008\n",
    "XSP_CR_TRANS_INHIBIT_MASK  = 0x00000100\n",
    "XSP_CR_LOOPBACK_MASK       = 0x00000001\n",
    "XSP_CR_ENABLE_MASK         = 0x00000002\n",
    "XSP_CR_MASTER_MODE_MASK    = 0x00000004\n",
    "XSP_CR_CLK_POLARITY_MASK   = 0x00000008\n",
    "XSP_CR_CLK_PHASE_MASK      = 0x00000010\n",
    "XSP_CR_TXFIFO_RESET_MASK   = 0x00000020\n",
    "XSP_CR_RXFIFO_RESET_MASK   = 0x00000040\n",
    "XSP_CR_MANUAL_SS_MASK      = 0x00000080\n",
    "\n",
    "SLAVE_NO_SELECTION = 0xFFFFFFFF\n",
    "\n",
    "def cnfg(AxiQspi, clk_phase=0, clk_pol=0):\n",
    "    print(\"Configure device\")\n",
    "    # Reset the SPI device\n",
    "    AxiQspi.write(XSP_SRR_OFFSET, XSP_SRR_RESET_MASK)\n",
    "    # Enable the transmit empty interrupt, which we use to determine progress on the transmission. \n",
    "    AxiQspi.write(XSP_IIER_OFFSET, XSP_SR_TX_EMPTY_MASK)\n",
    "    # Disable the global IPIF interrupt\n",
    "    AxiQspi.write(XSP_DGIER_OFFSET, 0)\n",
    "    # Deselect the slave on the SPI bus\n",
    "    AxiQspi.write(XSP_SSR_OFFSET, SLAVE_NO_SELECTION)\n",
    "    # Disable the transmitter, enable Manual Slave Select Assertion, put SPI controller into master mode, and enable it\n",
    "    ControlReg = AxiQspi.read(XSP_CR_OFFSET)\n",
    "    ControlReg = ControlReg | XSP_CR_MASTER_MODE_MASK | XSP_CR_MANUAL_SS_MASK | XSP_CR_ENABLE_MASK | XSP_CR_TXFIFO_RESET_MASK | XSP_CR_RXFIFO_RESET_MASK\n",
    "    AxiQspi.write(XSP_CR_OFFSET, ControlReg)\n",
    "    ControlReg = AxiQspi.read(XSP_CR_OFFSET)\n",
    "    ControlReg = ControlReg & ~(XSP_CR_CLK_PHASE_MASK | XSP_CR_CLK_POLARITY_MASK) \n",
    "    if clk_phase == 1:\n",
    "        ControlReg = ControlReg | XSP_CR_CLK_PHASE_MASK\n",
    "    if clk_pol == 1:\n",
    "        ControlReg = ControlReg | XSP_CR_CLK_POLARITY_MASK\n",
    "    AxiQspi.write(XSP_CR_OFFSET, ControlReg)\n",
    "\n",
    "    return 0\n",
    "\n",
    "def xfer(packet, AxiQspi):\n",
    "    print(\"TransferData\")\n",
    "    for data in packet:\n",
    "        AxiQspi.write(XSP_SSR_OFFSET, 0xFFFFFFFE)\n",
    "        AxiQspi.write(XSP_DTR_OFFSET, data)\n",
    "        ControlReg = AxiQspi.read(XSP_CR_OFFSET)\n",
    "        ControlReg = ControlReg & ~XSP_CR_TRANS_INHIBIT_MASK\n",
    "        AxiQspi.write(XSP_CR_OFFSET, ControlReg)\n",
    "\n",
    "        StatusReg = AxiQspi.read(XSP_SR_OFFSET)\n",
    "        while (StatusReg & XSP_SR_TX_EMPTY_MASK) == 0:\n",
    "            StatusReg = AxiQspi.read(XSP_SR_OFFSET)\n",
    "\n",
    "        print('XSP_RFO_OFFSET  : 0x{0:08x}'.format(AxiQspi.read(XSP_RFO_OFFSET)))\n",
    "        ControlReg = AxiQspi.read(XSP_CR_OFFSET)\n",
    "        ControlReg = ControlReg | XSP_CR_TRANS_INHIBIT_MASK\n",
    "        AxiQspi.write(XSP_CR_OFFSET, ControlReg)\n",
    "\n",
    "    AxiQspi.write(XSP_SSR_OFFSET, SLAVE_NO_SELECTION)\n",
    "\n",
    "    print(\"ReadResponse\")\n",
    "    resp = list()\n",
    "    RxFifoStatus = AxiQspi.read(XSP_SR_OFFSET) & 0x01\n",
    "    while RxFifoStatus == 0:\n",
    "        temp = AxiQspi.read(XSP_RFO_OFFSET)\n",
    "        print('XSP_RFO_OFFSET  : 0x{0:08x}'.format(temp))\n",
    "        temp = AxiQspi.read(XSP_DRR_OFFSET)\n",
    "        print('XSP_DRR_OFFSET  : 0x{0:08x}'.format(temp))    \n",
    "        resp.append(temp)\n",
    "        RxFifoStatus = AxiQspi.read(XSP_SR_OFFSET) & 0x01\n",
    "\n",
    "    return resp"
   ]
  },
  {
   "cell_type": "code",
   "execution_count": 5,
   "id": "78609873-916d-453c-8828-9f0027d4c5fa",
   "metadata": {},
   "outputs": [
    {
     "name": "stdout",
     "output_type": "stream",
     "text": [
      "FCLK0: 50.000000MHz\n"
     ]
    }
   ],
   "source": [
    "from pynq import Clocks\n",
    "\n",
    "print(f'FCLK0: {Clocks.fclk0_mhz:.6f}MHz')"
   ]
  },
  {
   "cell_type": "code",
   "execution_count": 6,
   "id": "378adee6-d68a-488b-b64a-1a4ade461f72",
   "metadata": {},
   "outputs": [
    {
     "name": "stdout",
     "output_type": "stream",
     "text": [
      "Configure device\n"
     ]
    },
    {
     "data": {
      "text/plain": [
       "0"
      ]
     },
     "execution_count": 6,
     "metadata": {},
     "output_type": "execute_result"
    }
   ],
   "source": [
    "cnfg(AxiQspi,0,0)"
   ]
  },
  {
   "cell_type": "code",
   "execution_count": 9,
   "id": "84c7903e-2027-4395-86b4-c8583279ae40",
   "metadata": {},
   "outputs": [
    {
     "name": "stdout",
     "output_type": "stream",
     "text": [
      "Configure device\n",
      "TransferData\n",
      "XSP_RFO_OFFSET  : 0x00000000\n",
      "XSP_RFO_OFFSET  : 0x00000001\n",
      "XSP_RFO_OFFSET  : 0x00000002\n",
      "XSP_RFO_OFFSET  : 0x00000003\n",
      "XSP_RFO_OFFSET  : 0x00000004\n",
      "ReadResponse\n",
      "XSP_RFO_OFFSET  : 0x00000004\n",
      "XSP_DRR_OFFSET  : 0x00000000\n",
      "XSP_RFO_OFFSET  : 0x00000003\n",
      "XSP_DRR_OFFSET  : 0x000000da\n",
      "XSP_RFO_OFFSET  : 0x00000002\n",
      "XSP_DRR_OFFSET  : 0x0000000e\n",
      "XSP_RFO_OFFSET  : 0x00000001\n",
      "XSP_DRR_OFFSET  : 0x000000db\n",
      "XSP_RFO_OFFSET  : 0x00000000\n",
      "XSP_DRR_OFFSET  : 0x000000da\n"
     ]
    }
   ],
   "source": [
    "cnfg(AxiQspi,0,0)\n",
    "resp = xfer([0xDA,0x0E,0xDB,0xDA,0x00], AxiQspi)"
   ]
  },
  {
   "cell_type": "code",
   "execution_count": 8,
   "id": "e0d2fba8-9010-4874-8806-eeb2a508b6ef",
   "metadata": {},
   "outputs": [
    {
     "name": "stdout",
     "output_type": "stream",
     "text": [
      "[0, 218, 14, 219, 218]\n",
      "XSP_DRR_OFFSET  : 0x00\n",
      "XSP_DRR_OFFSET  : 0xda\n",
      "XSP_DRR_OFFSET  : 0x0e\n",
      "XSP_DRR_OFFSET  : 0xdb\n",
      "XSP_DRR_OFFSET  : 0xda\n"
     ]
    }
   ],
   "source": [
    "print(resp)\n",
    "for data in resp :\n",
    "    print('XSP_DRR_OFFSET  : 0x{0:02x}'.format(data))   "
   ]
  },
  {
   "cell_type": "code",
   "execution_count": 17,
   "id": "12de3416-7f6e-4d8c-8b91-13722e28f620",
   "metadata": {},
   "outputs": [
    {
     "name": "stdout",
     "output_type": "stream",
     "text": [
      "TransferData\n",
      "XSP_RFO_OFFSET  : 0x00000000\n",
      "XSP_RFO_OFFSET  : 0x00000001\n",
      "XSP_RFO_OFFSET  : 0x00000002\n",
      "ReadResponse\n",
      "XSP_RFO_OFFSET  : 0x00000002\n",
      "XSP_DRR_OFFSET  : 0x00000000\n",
      "XSP_RFO_OFFSET  : 0x00000001\n",
      "XSP_DRR_OFFSET  : 0x00000011\n",
      "XSP_RFO_OFFSET  : 0x00000000\n",
      "XSP_DRR_OFFSET  : 0x0000000c\n"
     ]
    }
   ],
   "source": [
    "resp = xfer([0x11, 12, 0x0], AxiQspi)"
   ]
  },
  {
   "cell_type": "code",
   "execution_count": null,
   "id": "fdec680a-141d-4d86-a020-3fac65e5ef86",
   "metadata": {
    "tags": []
   },
   "outputs": [],
   "source": []
  },
  {
   "cell_type": "code",
   "execution_count": null,
   "id": "b9aa4dab-731d-4b80-ac8b-d19fd37fb7b0",
   "metadata": {},
   "outputs": [],
   "source": []
  },
  {
   "cell_type": "code",
   "execution_count": null,
   "id": "cb28f2ea-793d-4991-aece-15fa65c494a5",
   "metadata": {},
   "outputs": [],
   "source": []
  }
 ],
 "metadata": {
  "kernelspec": {
   "display_name": "Python 3 (ipykernel)",
   "language": "python",
   "name": "python3"
  },
  "language_info": {
   "codemirror_mode": {
    "name": "ipython",
    "version": 3
   },
   "file_extension": ".py",
   "mimetype": "text/x-python",
   "name": "python",
   "nbconvert_exporter": "python",
   "pygments_lexer": "ipython3",
   "version": "3.10.4"
  }
 },
 "nbformat": 4,
 "nbformat_minor": 5
}
