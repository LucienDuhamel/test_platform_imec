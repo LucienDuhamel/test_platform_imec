{
 "cells": [
  {
   "cell_type": "code",
   "execution_count": null,
   "id": "5096406a-e298-4ce7-95e2-fa3551d48dcc",
   "metadata": {},
   "outputs": [],
   "source": [
    "# Takes any str composed of hexadecimal values and converts it into bytes\n",
    "# For example from_hex_to_byte(\"1234abcd\") gives bytearray(b'\\x124\\xab\\xcd')\n",
    "\n",
    "def from_hex_to_byte(hex_value : str) -> bytearray :\n",
    "    return '{0:08b}'.format(int(hex_value, 16))\n",
    "\n",
    "# Takes any list of bytes and converts it into a string of hexadecimal values\n",
    "# For example from_byte_to_hex(bytearray(b'\\x124\\xab\\xcd')) gives \"1234abcd\"\n",
    "def from_byte_to_hex(bytes_val : bytes) -> str :\n",
    "    hex_list = []\n",
    "    for byte in bytes_val :\n",
    "        hex_list.append('0x{0:02x}'.format(byte))\n",
    "    return hex_list\n",
    "\n",
    "# Display the hexadecimal value given in arg \n",
    "def display_hex_value(hex_value : str) -> None :\n",
    "    print(hex_value)\n",
    "\n",
    "# Display the list of bytes depending on the byte value given in arg\n",
    "def display_bytes_value(bytes_value : list[bytes]) -> None:\n",
    "    print(bytes_value)\n"
   ]
  }
 ],
 "metadata": {
  "kernelspec": {
   "display_name": "Python 3 (ipykernel)",
   "language": "python",
   "name": "python3"
  },
  "language_info": {
   "codemirror_mode": {
    "name": "ipython",
    "version": 3
   },
   "file_extension": ".py",
   "mimetype": "text/x-python",
   "name": "python",
   "nbconvert_exporter": "python",
   "pygments_lexer": "ipython3",
   "version": "3.10.4"
  }
 },
 "nbformat": 4,
 "nbformat_minor": 5
}
