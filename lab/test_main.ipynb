{
 "cells": [
  {
   "cell_type": "code",
   "execution_count": 3,
   "id": "14c054ce-1652-4af8-97a1-2a74ad8a4dca",
   "metadata": {},
   "outputs": [
    {
     "name": "stdout",
     "output_type": "stream",
     "text": [
      "10101011\n"
     ]
    }
   ],
   "source": [
    "%run converter.ipynb\n",
    "\n",
    "hex_val = 'ab'\n",
    "byte  = from_hex_to_byte(hex_val)\n",
    "print(byte)"
   ]
  },
  {
   "cell_type": "code",
   "execution_count": 15,
   "id": "4bf8b396-e899-4562-a6ee-86868f0f60a6",
   "metadata": {},
   "outputs": [],
   "source": [
    "result_file_name = 'trial.html'\n",
    "result_file = open(result_file_name,\"w\")\n",
    " \n",
    "# Adding input data to the HTML file\n",
    "result_file.write(f\"<html>\\n<head>\\n \\n<title> \\nOutput Data in an HTML file \\\n",
    "           </title>\\n <style> body {{color: green;}}</style>\\n </head> \\n \\\n",
    "           <body>\\n\")\n",
    "\n",
    "# For HTML Result files \n",
    "start_p_html = '<p style=\"color:rgb(217, 217, 217);\">'\n",
    "start_error_span = '<span style=\"color:red;\">'\n",
    "start_valid_span = '<span style=\"color:green;\">'\n",
    "end_span = '</span>'\n",
    "end_p = '</p>\\n'\n",
    "\n",
    "error_msg_html = f\"{start_error_span} ERROR : {end_span}\"\n",
    "valid_msg_html = f\"{start_valid_span} ERROR : {end_span}\"\n",
    "\n",
    "def write_html_message(result_file, content : str) -> None :\n",
    "    html_msg = f\"{start_p_html} {content} {end_p}\"\n",
    "    result_file.write(html_msg) \n",
    "    \n",
    "content1 = f\"{error_msg_html} this is an error msg\"\n",
    "write_html_message(result_file, content1)\n",
    "content2 = f\"{valid_msg_html} this is an validation msg\"\n",
    "write_html_message(result_file, content2)\n",
    "\n",
    "\n",
    "result_file.write(\"\\n</body></html>\")\n",
    "            \n",
    "# Saving the data into the HTML file\n",
    "result_file.close()"
   ]
  },
  {
   "cell_type": "code",
   "execution_count": null,
   "id": "ea026ea1-f6be-43ff-bafd-0e06d140f5de",
   "metadata": {},
   "outputs": [],
   "source": []
  }
 ],
 "metadata": {
  "kernelspec": {
   "display_name": "Python 3 (ipykernel)",
   "language": "python",
   "name": "python3"
  },
  "language_info": {
   "codemirror_mode": {
    "name": "ipython",
    "version": 3
   },
   "file_extension": ".py",
   "mimetype": "text/x-python",
   "name": "python",
   "nbconvert_exporter": "python",
   "pygments_lexer": "ipython3",
   "version": "3.10.4"
  }
 },
 "nbformat": 4,
 "nbformat_minor": 5
}
