{
 "cells": [
  {
   "cell_type": "code",
   "execution_count": 1,
   "id": "5344526f-9b72-47e5-98b4-a954abb3272a",
   "metadata": {},
   "outputs": [
    {
     "name": "stdout",
     "output_type": "stream",
     "text": [
      "{'REGRD': {'description': 'Command to read in a register.\\nActive only if active field is set to 1.\\nYou have to specify in the test file: \\n- the command (by default : 1)\\n- the address (by default : 1)\\n', 'pattern': 'REGRD', 'active': 1, 'tokens': {'cmd': 1, 'addr': 1}}, 'REGWR': {'description': 'Command to write in a register.\\nActive only if active field is set to 1.\\nYou have to specify in the test file the number of tokens for : \\n- the command (by default : 1)\\n- the address (by default : 1)\\n- the written data (by default : 2)\\nWARNING : For this command, the first token of data is a mask.\\n          You have to create a new command this is not the behavior wanted.\\n', 'pattern': 'REGWR', 'active': 1, 'tokens': {'cmd': 1, 'addr': 1, 'data': 2}}, 'MEMRD': {'description': 'Command to read in the memory.\\nActive only if active field is set to 1.\\nYou have to specify in the test file the number of tokens for : \\n- the command (by default : 1)\\n- the address (by default : 1)\\n', 'pattern': 'MEMRD', 'active': 1, 'tokens': {'cmd': 1, 'addr': 1}}, 'MEMWR': {'description': 'Command to write in the memory.\\nActive only if active field is set to 1.\\nYou have to specify in the test file, the number of tokens for : \\n- the command (by default : 1)\\n- the address (by default : 1)\\n- the written data (by default : 8)\\n', 'pattern': 'MEMWR', 'active': 1, 'tokens': {'cmd': 1, 'addr': 1, 'data': 8}}, 'MEMRDM': {'description': 'Command to read memory where the address and data mask is given by register interface.\\nActive only if active field is set to 1.\\nYou have to specify in the test file the number of tokens for : \\n- the command (by default : 1)\\n', 'pattern': 'MEMRDM', 'active': 1, 'tokens': {'cmd': 1}}, 'MEMWRM': {'description': 'Command to write in the memory where the address and data mask is given by register interface.\\nActive only if active field is set to 1.\\nYou have to specify in the test file, the number of tokens for : \\n- the command (by default : 1)\\n- the written data (by default : 8)\\n', 'pattern': 'MEMWRM', 'active': 1, 'tokens': {'cmd': 1, 'data': 8}}, 'REGCMP': {'description': 'Command to compare the last value read in a register with the one given by data tokens.\\nActive only if active field is set to 1.\\nHere, as there is a mask in one of the two token, only the last token is compared with respect to the mask.\\n', 'pattern': 'REGCMP', 'active': 1, 'tokens': {'cmd': 1, 'data': 2}}, 'MEMCMP': {'description': 'Command to compare the last value read in the memory with the one given by data tokens.\\nActive only if active field is set to 1.\\n', 'pattern': 'MEMCMP', 'active': 1, 'tokens': {'cmd': 1, 'data': 8}}}\n"
     ]
    }
   ],
   "source": [
    "import yaml\n",
    "with open(\"commands.yaml\",\"r\") as file:\n",
    "        config_cmds = yaml.safe_load(file)\n",
    "        print(config_cmds)"
   ]
  },
  {
   "cell_type": "code",
   "execution_count": 2,
   "id": "220fc5b1-1297-486f-a58c-be3b9d22ef59",
   "metadata": {},
   "outputs": [
    {
     "name": "stdout",
     "output_type": "stream",
     "text": [
      "{'cmd': 1, 'data': 8}\n"
     ]
    }
   ],
   "source": [
    "print(config_cmds[\"MEMWRM\"][\"tokens\"])"
   ]
  },
  {
   "cell_type": "code",
   "execution_count": 7,
   "id": "bb128a1f-eaa9-498b-99ed-926215283d1e",
   "metadata": {},
   "outputs": [
    {
     "name": "stdout",
     "output_type": "stream",
     "text": [
      "{'cmd': 1, 'addr': 1}\n",
      "{'cmd': 1, 'addr': 1, 'data': 2}\n",
      "{'cmd': 1, 'addr': 1}\n",
      "{'cmd': 1, 'addr': 1, 'data': 8}\n",
      "{'cmd': 1}\n",
      "{'cmd': 1, 'data': 8}\n",
      "{'cmd': 1, 'data': 2}\n",
      "{'cmd': 1, 'data': 8}\n"
     ]
    }
   ],
   "source": [
    "for cmd in (config_cmds):\n",
    "    cmd_name = config_cmds[cmd][\"pattern\"]\n",
    "    cmd_description = config_cmds[cmd][\"description\"]\n",
    "    cmd_tokens = config_cmds[cmd][\"tokens\"]\n",
    "    print(cmd_tokens)"
   ]
  },
  {
   "cell_type": "code",
   "execution_count": 9,
   "id": "031995c6-ec06-45b2-b0a6-3dacd7adbf4f",
   "metadata": {},
   "outputs": [
    {
     "name": "stdout",
     "output_type": "stream",
     "text": [
      "true\n"
     ]
    }
   ],
   "source": [
    "if \"REGWR\" in config_cmds :\n",
    "    print(\"true\")"
   ]
  },
  {
   "cell_type": "code",
   "execution_count": null,
   "id": "0aef4d4e-0a48-477f-a662-e4b8353a6685",
   "metadata": {},
   "outputs": [],
   "source": []
  }
 ],
 "metadata": {
  "kernelspec": {
   "display_name": "Python 3 (ipykernel)",
   "language": "python",
   "name": "python3"
  },
  "language_info": {
   "codemirror_mode": {
    "name": "ipython",
    "version": 3
   },
   "file_extension": ".py",
   "mimetype": "text/x-python",
   "name": "python",
   "nbconvert_exporter": "python",
   "pygments_lexer": "ipython3",
   "version": "3.10.4"
  }
 },
 "nbformat": 4,
 "nbformat_minor": 5
}
